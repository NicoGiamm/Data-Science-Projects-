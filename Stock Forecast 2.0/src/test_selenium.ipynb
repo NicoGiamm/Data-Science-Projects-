{
 "cells": [
  {
   "cell_type": "code",
   "execution_count": 1,
   "metadata": {},
   "outputs": [],
   "source": [
    "from investopedia import InvestopediaSimulator\n",
    "import yaml"
   ]
  },
  {
   "cell_type": "code",
   "execution_count": 2,
   "metadata": {},
   "outputs": [],
   "source": [
    "with open('../config/credentials.yaml', 'r') as file:\n",
    "    credentials = yaml.safe_load(file)\n",
    "    \n",
    "user = credentials['username']\n",
    "pwd = credentials['password']"
   ]
  },
  {
   "cell_type": "code",
   "execution_count": 3,
   "metadata": {},
   "outputs": [
    {
     "ename": "NoSuchElementException",
     "evalue": "Message: no such element: Unable to locate element: {\"method\":\"xpath\",\"selector\":\"//*[@id=\"symbol-info-widget\"]/div/div/div[1]/div/div/div/div[1]/div[1]\"}\n  (Session info: chrome=114.0.5735.110); For documentation on this error, please visit: https://www.selenium.dev/documentation/webdriver/troubleshooting/errors#no-such-element-exception\nStacktrace:\nBacktrace:\n\tGetHandleVerifier [0x003FA813+48355]\n\t(No symbol) [0x0038C4B1]\n\t(No symbol) [0x00295358]\n\t(No symbol) [0x002C09A5]\n\t(No symbol) [0x002C0B3B]\n\t(No symbol) [0x002EE232]\n\t(No symbol) [0x002DA784]\n\t(No symbol) [0x002EC922]\n\t(No symbol) [0x002DA536]\n\t(No symbol) [0x002B82DC]\n\t(No symbol) [0x002B93DD]\n\tGetHandleVerifier [0x0065AABD+2539405]\n\tGetHandleVerifier [0x0069A78F+2800735]\n\tGetHandleVerifier [0x0069456C+2775612]\n\tGetHandleVerifier [0x004851E0+616112]\n\t(No symbol) [0x00395F8C]\n\t(No symbol) [0x00392328]\n\t(No symbol) [0x0039240B]\n\t(No symbol) [0x00384FF7]\n\tBaseThreadInitThunk [0x76467D59+25]\n\tRtlInitializeExceptionChain [0x77B5B74B+107]\n\tRtlClearBits [0x77B5B6CF+191]\n",
     "output_type": "error",
     "traceback": [
      "\u001b[1;31m---------------------------------------------------------------------------\u001b[0m",
      "\u001b[1;31mNoSuchElementException\u001b[0m                    Traceback (most recent call last)",
      "Cell \u001b[1;32mIn[3], line 4\u001b[0m\n\u001b[0;32m      2\u001b[0m qbts\u001b[39m.\u001b[39mconnect(username\u001b[39m=\u001b[39muser, password\u001b[39m=\u001b[39mpwd)\n\u001b[0;32m      3\u001b[0m qbts\u001b[39m.\u001b[39msearch_ticker()\n\u001b[1;32m----> 4\u001b[0m qbts\u001b[39m.\u001b[39;49mbuy(\u001b[39m10\u001b[39;49m)\n",
      "File \u001b[1;32mc:\\Users\\ggiam\\OneDrive\\Desktop\\GitHub\\MachineLearning-DataScience_smallprojects\\MachineLearning-DataScience_smallprojects\\Stock Forecast 2.0\\src\\investopedia.py:78\u001b[0m, in \u001b[0;36mInvestopediaSimulator.buy\u001b[1;34m(self, money)\u001b[0m\n\u001b[0;32m     75\u001b[0m \u001b[39m#select buy option\u001b[39;00m\n\u001b[0;32m     77\u001b[0m time\u001b[39m.\u001b[39msleep(\u001b[39m3\u001b[39m)\n\u001b[1;32m---> 78\u001b[0m price \u001b[39m=\u001b[39m \u001b[39mself\u001b[39;49m\u001b[39m.\u001b[39;49mdriver\u001b[39m.\u001b[39;49mfind_element(By\u001b[39m.\u001b[39;49mXPATH, \u001b[39m'\u001b[39;49m\u001b[39m//*[@id=\u001b[39;49m\u001b[39m\"\u001b[39;49m\u001b[39msymbol-info-widget\u001b[39;49m\u001b[39m\"\u001b[39;49m\u001b[39m]/div/div/div[1]/div/div/div/div[1]/div[1]\u001b[39;49m\u001b[39m'\u001b[39;49m)\n\u001b[0;32m     79\u001b[0m \u001b[39mself\u001b[39m\u001b[39m.\u001b[39mdriver\u001b[39m.\u001b[39mexecute_script(\u001b[39m'\u001b[39m\u001b[39marguments[0].scrollIntoView()\u001b[39m\u001b[39m'\u001b[39m, price)\n\u001b[0;32m     81\u001b[0m time\u001b[39m.\u001b[39msleep(\u001b[39m2\u001b[39m)\n",
      "File \u001b[1;32mc:\\Users\\ggiam\\anaconda3\\envs\\stock_forecast_2\\Lib\\site-packages\\selenium\\webdriver\\remote\\webdriver.py:740\u001b[0m, in \u001b[0;36mWebDriver.find_element\u001b[1;34m(self, by, value)\u001b[0m\n\u001b[0;32m    737\u001b[0m     by \u001b[39m=\u001b[39m By\u001b[39m.\u001b[39mCSS_SELECTOR\n\u001b[0;32m    738\u001b[0m     value \u001b[39m=\u001b[39m \u001b[39mf\u001b[39m\u001b[39m'\u001b[39m\u001b[39m[name=\u001b[39m\u001b[39m\"\u001b[39m\u001b[39m{\u001b[39;00mvalue\u001b[39m}\u001b[39;00m\u001b[39m\"\u001b[39m\u001b[39m]\u001b[39m\u001b[39m'\u001b[39m\n\u001b[1;32m--> 740\u001b[0m \u001b[39mreturn\u001b[39;00m \u001b[39mself\u001b[39;49m\u001b[39m.\u001b[39;49mexecute(Command\u001b[39m.\u001b[39;49mFIND_ELEMENT, {\u001b[39m\"\u001b[39;49m\u001b[39musing\u001b[39;49m\u001b[39m\"\u001b[39;49m: by, \u001b[39m\"\u001b[39;49m\u001b[39mvalue\u001b[39;49m\u001b[39m\"\u001b[39;49m: value})[\u001b[39m\"\u001b[39m\u001b[39mvalue\u001b[39m\u001b[39m\"\u001b[39m]\n",
      "File \u001b[1;32mc:\\Users\\ggiam\\anaconda3\\envs\\stock_forecast_2\\Lib\\site-packages\\selenium\\webdriver\\remote\\webdriver.py:346\u001b[0m, in \u001b[0;36mWebDriver.execute\u001b[1;34m(self, driver_command, params)\u001b[0m\n\u001b[0;32m    344\u001b[0m response \u001b[39m=\u001b[39m \u001b[39mself\u001b[39m\u001b[39m.\u001b[39mcommand_executor\u001b[39m.\u001b[39mexecute(driver_command, params)\n\u001b[0;32m    345\u001b[0m \u001b[39mif\u001b[39;00m response:\n\u001b[1;32m--> 346\u001b[0m     \u001b[39mself\u001b[39;49m\u001b[39m.\u001b[39;49merror_handler\u001b[39m.\u001b[39;49mcheck_response(response)\n\u001b[0;32m    347\u001b[0m     response[\u001b[39m\"\u001b[39m\u001b[39mvalue\u001b[39m\u001b[39m\"\u001b[39m] \u001b[39m=\u001b[39m \u001b[39mself\u001b[39m\u001b[39m.\u001b[39m_unwrap_value(response\u001b[39m.\u001b[39mget(\u001b[39m\"\u001b[39m\u001b[39mvalue\u001b[39m\u001b[39m\"\u001b[39m, \u001b[39mNone\u001b[39;00m))\n\u001b[0;32m    348\u001b[0m     \u001b[39mreturn\u001b[39;00m response\n",
      "File \u001b[1;32mc:\\Users\\ggiam\\anaconda3\\envs\\stock_forecast_2\\Lib\\site-packages\\selenium\\webdriver\\remote\\errorhandler.py:245\u001b[0m, in \u001b[0;36mErrorHandler.check_response\u001b[1;34m(self, response)\u001b[0m\n\u001b[0;32m    243\u001b[0m         alert_text \u001b[39m=\u001b[39m value[\u001b[39m\"\u001b[39m\u001b[39malert\u001b[39m\u001b[39m\"\u001b[39m]\u001b[39m.\u001b[39mget(\u001b[39m\"\u001b[39m\u001b[39mtext\u001b[39m\u001b[39m\"\u001b[39m)\n\u001b[0;32m    244\u001b[0m     \u001b[39mraise\u001b[39;00m exception_class(message, screen, stacktrace, alert_text)  \u001b[39m# type: ignore[call-arg]  # mypy is not smart enough here\u001b[39;00m\n\u001b[1;32m--> 245\u001b[0m \u001b[39mraise\u001b[39;00m exception_class(message, screen, stacktrace)\n",
      "\u001b[1;31mNoSuchElementException\u001b[0m: Message: no such element: Unable to locate element: {\"method\":\"xpath\",\"selector\":\"//*[@id=\"symbol-info-widget\"]/div/div/div[1]/div/div/div/div[1]/div[1]\"}\n  (Session info: chrome=114.0.5735.110); For documentation on this error, please visit: https://www.selenium.dev/documentation/webdriver/troubleshooting/errors#no-such-element-exception\nStacktrace:\nBacktrace:\n\tGetHandleVerifier [0x003FA813+48355]\n\t(No symbol) [0x0038C4B1]\n\t(No symbol) [0x00295358]\n\t(No symbol) [0x002C09A5]\n\t(No symbol) [0x002C0B3B]\n\t(No symbol) [0x002EE232]\n\t(No symbol) [0x002DA784]\n\t(No symbol) [0x002EC922]\n\t(No symbol) [0x002DA536]\n\t(No symbol) [0x002B82DC]\n\t(No symbol) [0x002B93DD]\n\tGetHandleVerifier [0x0065AABD+2539405]\n\tGetHandleVerifier [0x0069A78F+2800735]\n\tGetHandleVerifier [0x0069456C+2775612]\n\tGetHandleVerifier [0x004851E0+616112]\n\t(No symbol) [0x00395F8C]\n\t(No symbol) [0x00392328]\n\t(No symbol) [0x0039240B]\n\t(No symbol) [0x00384FF7]\n\tBaseThreadInitThunk [0x76467D59+25]\n\tRtlInitializeExceptionChain [0x77B5B74B+107]\n\tRtlClearBits [0x77B5B6CF+191]\n"
     ]
    }
   ],
   "source": [
    "qbts = InvestopediaSimulator('QBTS')\n",
    "qbts.connect(username=user, password=pwd)\n",
    "qbts.search_ticker()\n",
    "qbts.buy(10)"
   ]
  },
  {
   "cell_type": "code",
   "execution_count": null,
   "metadata": {},
   "outputs": [],
   "source": []
  }
 ],
 "metadata": {
  "kernelspec": {
   "display_name": "stock_forecast_2",
   "language": "python",
   "name": "python3"
  },
  "language_info": {
   "codemirror_mode": {
    "name": "ipython",
    "version": 3
   },
   "file_extension": ".py",
   "mimetype": "text/x-python",
   "name": "python",
   "nbconvert_exporter": "python",
   "pygments_lexer": "ipython3",
   "version": "3.11.0"
  },
  "orig_nbformat": 4
 },
 "nbformat": 4,
 "nbformat_minor": 2
}
