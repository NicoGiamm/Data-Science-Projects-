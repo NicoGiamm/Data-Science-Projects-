{
 "cells": [
  {
   "cell_type": "code",
   "execution_count": 1,
   "metadata": {},
   "outputs": [],
   "source": [
    "import numpy as np\n",
    "import seaborn as sns\n",
    "import pandas as pd\n",
    "import tensorflow as tf\n",
    "import matplotlib.pyplot as plt\n",
    "from xgboost import XGBClassifier\n",
    "from sklearn.linear_model import BayesianRidge, ARDRegression\n",
    "from sklearn.svm import SVR\n",
    "from ForecastSimulator2 import Forecastsimulator, forecast_split_classifier\n",
    "from statsmodels.tsa.seasonal import seasonal_decompose\n",
    "from datetime import date\n",
    "from dateutil.relativedelta import relativedelta\n",
    "from sklearn.ensemble import BaggingRegressor\n",
    "\n",
    "from sklearn.preprocessing import StandardScaler\n",
    "from pandas_datareader import data as web\n",
    "\n",
    "plt.rcParams['figure.figsize'] = (18, 10)\n",
    "plt.rcParams['axes.labelsize'] = 15\n",
    "plt.rcParams['axes.grid'] = True"
   ]
  },
  {
   "cell_type": "code",
   "execution_count": 2,
   "metadata": {},
   "outputs": [
    {
     "name": "stdout",
     "output_type": "stream",
     "text": [
      "2018-03-19\n",
      "<class 'pandas.core.frame.DataFrame'>\n",
      "DatetimeIndex: 1259 entries, 2023-03-17 to 2018-03-19\n",
      "Data columns (total 5 columns):\n",
      " #   Column  Non-Null Count  Dtype  \n",
      "---  ------  --------------  -----  \n",
      " 0   Open    1259 non-null   float64\n",
      " 1   High    1259 non-null   float64\n",
      " 2   Low     1259 non-null   float64\n",
      " 3   Close   1259 non-null   float64\n",
      " 4   Volume  1259 non-null   float64\n",
      "dtypes: float64(5)\n",
      "memory usage: 59.0 KB\n"
     ]
    }
   ],
   "source": [
    "today = date.today()\n",
    "start_date = today - relativedelta(years=5)\n",
    "\n",
    "print(start_date)\n",
    "data = pd.DataFrame(web.DataReader('MERC', 'stooq', start_date))\n",
    "data.info()"
   ]
  },
  {
   "cell_type": "code",
   "execution_count": 3,
   "metadata": {},
   "outputs": [
    {
     "data": {
      "text/html": [
       "<div>\n",
       "<style scoped>\n",
       "    .dataframe tbody tr th:only-of-type {\n",
       "        vertical-align: middle;\n",
       "    }\n",
       "\n",
       "    .dataframe tbody tr th {\n",
       "        vertical-align: top;\n",
       "    }\n",
       "\n",
       "    .dataframe thead th {\n",
       "        text-align: right;\n",
       "    }\n",
       "</style>\n",
       "<table border=\"1\" class=\"dataframe\">\n",
       "  <thead>\n",
       "    <tr style=\"text-align: right;\">\n",
       "      <th></th>\n",
       "      <th>Close</th>\n",
       "    </tr>\n",
       "    <tr>\n",
       "      <th>Date</th>\n",
       "      <th></th>\n",
       "    </tr>\n",
       "  </thead>\n",
       "  <tbody>\n",
       "    <tr>\n",
       "      <th>2018-03-19</th>\n",
       "      <td>11.0048</td>\n",
       "    </tr>\n",
       "    <tr>\n",
       "      <th>2018-03-20</th>\n",
       "      <td>11.1737</td>\n",
       "    </tr>\n",
       "    <tr>\n",
       "      <th>2018-03-21</th>\n",
       "      <td>11.3456</td>\n",
       "    </tr>\n",
       "    <tr>\n",
       "      <th>2018-03-22</th>\n",
       "      <td>10.8793</td>\n",
       "    </tr>\n",
       "    <tr>\n",
       "      <th>2018-03-23</th>\n",
       "      <td>10.5769</td>\n",
       "    </tr>\n",
       "    <tr>\n",
       "      <th>...</th>\n",
       "      <td>...</td>\n",
       "    </tr>\n",
       "    <tr>\n",
       "      <th>2023-03-13</th>\n",
       "      <td>10.1300</td>\n",
       "    </tr>\n",
       "    <tr>\n",
       "      <th>2023-03-14</th>\n",
       "      <td>10.1500</td>\n",
       "    </tr>\n",
       "    <tr>\n",
       "      <th>2023-03-15</th>\n",
       "      <td>9.8400</td>\n",
       "    </tr>\n",
       "    <tr>\n",
       "      <th>2023-03-16</th>\n",
       "      <td>9.7900</td>\n",
       "    </tr>\n",
       "    <tr>\n",
       "      <th>2023-03-17</th>\n",
       "      <td>9.5400</td>\n",
       "    </tr>\n",
       "  </tbody>\n",
       "</table>\n",
       "<p>1259 rows × 1 columns</p>\n",
       "</div>"
      ],
      "text/plain": [
       "              Close\n",
       "Date               \n",
       "2018-03-19  11.0048\n",
       "2018-03-20  11.1737\n",
       "2018-03-21  11.3456\n",
       "2018-03-22  10.8793\n",
       "2018-03-23  10.5769\n",
       "...             ...\n",
       "2023-03-13  10.1300\n",
       "2023-03-14  10.1500\n",
       "2023-03-15   9.8400\n",
       "2023-03-16   9.7900\n",
       "2023-03-17   9.5400\n",
       "\n",
       "[1259 rows x 1 columns]"
      ]
     },
     "execution_count": 3,
     "metadata": {},
     "output_type": "execute_result"
    }
   ],
   "source": [
    "close = data[['Close']]\n",
    "close = close.sort_index(ascending = True)\n",
    "close"
   ]
  },
  {
   "cell_type": "code",
   "execution_count": 4,
   "metadata": {},
   "outputs": [
    {
     "name": "stdout",
     "output_type": "stream",
     "text": [
      "0\n"
     ]
    },
    {
     "ename": "ValueError",
     "evalue": "cannot reshape array of size 1 into shape (250)",
     "output_type": "error",
     "traceback": [
      "\u001b[1;31m---------------------------------------------------------------------------\u001b[0m",
      "\u001b[1;31mValueError\u001b[0m                                Traceback (most recent call last)",
      "Cell \u001b[1;32mIn[4], line 10\u001b[0m\n\u001b[0;32m      7\u001b[0m X_test_scaled \u001b[39m=\u001b[39m scaler_X\u001b[39m.\u001b[39mtransform(X_test)\n\u001b[0;32m      9\u001b[0m fs2 \u001b[39m=\u001b[39m Forecastsimulator(XGBClassifier())\n\u001b[1;32m---> 10\u001b[0m pred \u001b[39m=\u001b[39m fs2\u001b[39m.\u001b[39;49mretrain_classifier(XGBClassifier(), X_train_scaled, X_test_scaled, y_train, y_test, retrain_period\u001b[39m=\u001b[39;49m\u001b[39m20\u001b[39;49m)\n\u001b[0;32m     11\u001b[0m prediction \u001b[39m=\u001b[39m pred\n\u001b[0;32m     13\u001b[0m fs2\u001b[39m.\u001b[39msimulate_classifier(prediction, y_test, y_val)\n",
      "File \u001b[1;32mc:\\Users\\ggiam\\OneDrive\\Desktop\\GitHub\\MachineLearning-DataScience_smallprojects\\MachineLearning-DataScience_smallprojects\\Stock Forecast 2.0\\ForecastSimulator2.py:229\u001b[0m, in \u001b[0;36mForecastsimulator.retrain_classifier\u001b[1;34m(self, model, X_train, X_test, y_train, y_test, retrain_period)\u001b[0m\n\u001b[0;32m    227\u001b[0m \u001b[39mprint\u001b[39m(i)\n\u001b[0;32m    228\u001b[0m pred \u001b[39m=\u001b[39m \u001b[39mself\u001b[39m\u001b[39m.\u001b[39mpredict(X_test[\u001b[39m0\u001b[39m:\u001b[39m1\u001b[39m])\n\u001b[1;32m--> 229\u001b[0m prediction \u001b[39m=\u001b[39m np\u001b[39m.\u001b[39mappend(prediction, pred\u001b[39m.\u001b[39;49mreshape(\u001b[39m-\u001b[39;49m\u001b[39m1\u001b[39;49m,\u001b[39mlen\u001b[39;49m(y_test)), axis \u001b[39m=\u001b[39m \u001b[39m0\u001b[39m)\n\u001b[0;32m    231\u001b[0m X_train \u001b[39m=\u001b[39m np\u001b[39m.\u001b[39mappend(X_train[\u001b[39m1\u001b[39m:], X_test[\u001b[39m0\u001b[39m:\u001b[39m1\u001b[39m], axis\u001b[39m=\u001b[39m\u001b[39m0\u001b[39m)\n\u001b[0;32m    232\u001b[0m X_test \u001b[39m=\u001b[39m X_test[\u001b[39m1\u001b[39m:]\n",
      "\u001b[1;31mValueError\u001b[0m: cannot reshape array of size 1 into shape (250)"
     ]
    }
   ],
   "source": [
    "dtp=1\n",
    "ws = 20\n",
    "\n",
    "X_train, X_test, y_train, y_test, y_val = forecast_split_classifier(close, window_size=ws, dtp=dtp, test_days=250)\n",
    "scaler_X = StandardScaler()\n",
    "X_train_scaled = scaler_X.fit_transform(X_train)\n",
    "X_test_scaled = scaler_X.transform(X_test)\n",
    "\n",
    "fs2 = Forecastsimulator(XGBClassifier())\n",
    "pred = fs2.retrain_classifier(XGBClassifier(), X_train_scaled, X_test_scaled, y_train, y_test, retrain_period=20)\n",
    "prediction = pred\n",
    "\n",
    "fs2.simulate_classifier(prediction, y_test, y_val)"
   ]
  },
  {
   "cell_type": "code",
   "execution_count": null,
   "metadata": {},
   "outputs": [],
   "source": []
  }
 ],
 "metadata": {
  "kernelspec": {
   "display_name": "stock_forecast_2",
   "language": "python",
   "name": "python3"
  },
  "language_info": {
   "codemirror_mode": {
    "name": "ipython",
    "version": 3
   },
   "file_extension": ".py",
   "mimetype": "text/x-python",
   "name": "python",
   "nbconvert_exporter": "python",
   "pygments_lexer": "ipython3",
   "version": "3.11.0"
  },
  "orig_nbformat": 4
 },
 "nbformat": 4,
 "nbformat_minor": 2
}
