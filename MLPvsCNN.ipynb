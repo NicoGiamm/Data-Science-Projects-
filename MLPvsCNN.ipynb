{
 "cells": [
  {
   "cell_type": "code",
   "execution_count": 1,
   "id": "e032f6d0-e2bb-4060-b1a8-2dcc9091eb06",
   "metadata": {},
   "outputs": [],
   "source": [
    "import tensorflow as tf\n",
    "import pandas as pd\n",
    "import matplotlib.pyplot as plt\n",
    "import numpy as np\n",
    "import seaborn as sns\n",
    "from tensorflow import keras\n",
    "from sklearn.decomposition import PCA\n",
    "from sklearn.model_selection import train_test_split\n",
    "from sklearn.datasets import load_digits\n",
    "from sklearn.preprocessing import StandardScaler, MinMaxScaler\n",
    "from sklearn.model_selection import train_test_split, StratifiedKFold, cross_val_score\n",
    "from functools import partial\n",
    "from scikeras.wrappers import KerasClassifier\n",
    "from pandas.plotting import scatter_matrix\n",
    "from sklearn.metrics import classification_report, confusion_matrix, f1_score\n",
    "plt.rcParams['figure.figsize'] = (15,10)\n",
    "plt.rcParams['figure.constrained_layout.use'] = True\n",
    "plt.rcParams['axes.labelsize'] = 15"
   ]
  },
  {
   "cell_type": "code",
   "execution_count": 2,
   "id": "c514a26f-5a0d-4041-9a77-1652ba74caf3",
   "metadata": {},
   "outputs": [
    {
     "name": "stdout",
     "output_type": "stream",
     "text": [
      "<class 'pandas.core.frame.DataFrame'>\n",
      "RangeIndex: 1797 entries, 0 to 1796\n",
      "Data columns (total 65 columns):\n",
      " #   Column     Non-Null Count  Dtype  \n",
      "---  ------     --------------  -----  \n",
      " 0   pixel_0_0  1797 non-null   float64\n",
      " 1   pixel_0_1  1797 non-null   float64\n",
      " 2   pixel_0_2  1797 non-null   float64\n",
      " 3   pixel_0_3  1797 non-null   float64\n",
      " 4   pixel_0_4  1797 non-null   float64\n",
      " 5   pixel_0_5  1797 non-null   float64\n",
      " 6   pixel_0_6  1797 non-null   float64\n",
      " 7   pixel_0_7  1797 non-null   float64\n",
      " 8   pixel_1_0  1797 non-null   float64\n",
      " 9   pixel_1_1  1797 non-null   float64\n",
      " 10  pixel_1_2  1797 non-null   float64\n",
      " 11  pixel_1_3  1797 non-null   float64\n",
      " 12  pixel_1_4  1797 non-null   float64\n",
      " 13  pixel_1_5  1797 non-null   float64\n",
      " 14  pixel_1_6  1797 non-null   float64\n",
      " 15  pixel_1_7  1797 non-null   float64\n",
      " 16  pixel_2_0  1797 non-null   float64\n",
      " 17  pixel_2_1  1797 non-null   float64\n",
      " 18  pixel_2_2  1797 non-null   float64\n",
      " 19  pixel_2_3  1797 non-null   float64\n",
      " 20  pixel_2_4  1797 non-null   float64\n",
      " 21  pixel_2_5  1797 non-null   float64\n",
      " 22  pixel_2_6  1797 non-null   float64\n",
      " 23  pixel_2_7  1797 non-null   float64\n",
      " 24  pixel_3_0  1797 non-null   float64\n",
      " 25  pixel_3_1  1797 non-null   float64\n",
      " 26  pixel_3_2  1797 non-null   float64\n",
      " 27  pixel_3_3  1797 non-null   float64\n",
      " 28  pixel_3_4  1797 non-null   float64\n",
      " 29  pixel_3_5  1797 non-null   float64\n",
      " 30  pixel_3_6  1797 non-null   float64\n",
      " 31  pixel_3_7  1797 non-null   float64\n",
      " 32  pixel_4_0  1797 non-null   float64\n",
      " 33  pixel_4_1  1797 non-null   float64\n",
      " 34  pixel_4_2  1797 non-null   float64\n",
      " 35  pixel_4_3  1797 non-null   float64\n",
      " 36  pixel_4_4  1797 non-null   float64\n",
      " 37  pixel_4_5  1797 non-null   float64\n",
      " 38  pixel_4_6  1797 non-null   float64\n",
      " 39  pixel_4_7  1797 non-null   float64\n",
      " 40  pixel_5_0  1797 non-null   float64\n",
      " 41  pixel_5_1  1797 non-null   float64\n",
      " 42  pixel_5_2  1797 non-null   float64\n",
      " 43  pixel_5_3  1797 non-null   float64\n",
      " 44  pixel_5_4  1797 non-null   float64\n",
      " 45  pixel_5_5  1797 non-null   float64\n",
      " 46  pixel_5_6  1797 non-null   float64\n",
      " 47  pixel_5_7  1797 non-null   float64\n",
      " 48  pixel_6_0  1797 non-null   float64\n",
      " 49  pixel_6_1  1797 non-null   float64\n",
      " 50  pixel_6_2  1797 non-null   float64\n",
      " 51  pixel_6_3  1797 non-null   float64\n",
      " 52  pixel_6_4  1797 non-null   float64\n",
      " 53  pixel_6_5  1797 non-null   float64\n",
      " 54  pixel_6_6  1797 non-null   float64\n",
      " 55  pixel_6_7  1797 non-null   float64\n",
      " 56  pixel_7_0  1797 non-null   float64\n",
      " 57  pixel_7_1  1797 non-null   float64\n",
      " 58  pixel_7_2  1797 non-null   float64\n",
      " 59  pixel_7_3  1797 non-null   float64\n",
      " 60  pixel_7_4  1797 non-null   float64\n",
      " 61  pixel_7_5  1797 non-null   float64\n",
      " 62  pixel_7_6  1797 non-null   float64\n",
      " 63  pixel_7_7  1797 non-null   float64\n",
      " 64  target     1797 non-null   int32  \n",
      "dtypes: float64(64), int32(1)\n",
      "memory usage: 905.6 KB\n"
     ]
    }
   ],
   "source": [
    "dt = load_digits()\n",
    "data = pd.DataFrame(dt.data, columns = dt.feature_names)\n",
    "data['target'] = dt.target\n",
    "data.info()"
   ]
  },
  {
   "cell_type": "code",
   "execution_count": 3,
   "id": "bfd108c2-74f3-45ad-a20e-b8a0741cf7db",
   "metadata": {},
   "outputs": [
    {
     "data": {
      "text/html": [
       "<div>\n",
       "<style scoped>\n",
       "    .dataframe tbody tr th:only-of-type {\n",
       "        vertical-align: middle;\n",
       "    }\n",
       "\n",
       "    .dataframe tbody tr th {\n",
       "        vertical-align: top;\n",
       "    }\n",
       "\n",
       "    .dataframe thead th {\n",
       "        text-align: right;\n",
       "    }\n",
       "</style>\n",
       "<table border=\"1\" class=\"dataframe\">\n",
       "  <thead>\n",
       "    <tr style=\"text-align: right;\">\n",
       "      <th></th>\n",
       "      <th>pixel_0_0</th>\n",
       "      <th>pixel_0_1</th>\n",
       "      <th>pixel_0_2</th>\n",
       "      <th>pixel_0_3</th>\n",
       "      <th>pixel_0_4</th>\n",
       "      <th>pixel_0_5</th>\n",
       "      <th>pixel_0_6</th>\n",
       "      <th>pixel_0_7</th>\n",
       "      <th>pixel_1_0</th>\n",
       "      <th>pixel_1_1</th>\n",
       "      <th>...</th>\n",
       "      <th>pixel_6_7</th>\n",
       "      <th>pixel_7_0</th>\n",
       "      <th>pixel_7_1</th>\n",
       "      <th>pixel_7_2</th>\n",
       "      <th>pixel_7_3</th>\n",
       "      <th>pixel_7_4</th>\n",
       "      <th>pixel_7_5</th>\n",
       "      <th>pixel_7_6</th>\n",
       "      <th>pixel_7_7</th>\n",
       "      <th>target</th>\n",
       "    </tr>\n",
       "  </thead>\n",
       "  <tbody>\n",
       "    <tr>\n",
       "      <th>count</th>\n",
       "      <td>1797.0</td>\n",
       "      <td>1797.000000</td>\n",
       "      <td>1797.000000</td>\n",
       "      <td>1797.000000</td>\n",
       "      <td>1797.000000</td>\n",
       "      <td>1797.000000</td>\n",
       "      <td>1797.000000</td>\n",
       "      <td>1797.000000</td>\n",
       "      <td>1797.000000</td>\n",
       "      <td>1797.000000</td>\n",
       "      <td>...</td>\n",
       "      <td>1797.000000</td>\n",
       "      <td>1797.000000</td>\n",
       "      <td>1797.000000</td>\n",
       "      <td>1797.000000</td>\n",
       "      <td>1797.000000</td>\n",
       "      <td>1797.000000</td>\n",
       "      <td>1797.000000</td>\n",
       "      <td>1797.000000</td>\n",
       "      <td>1797.000000</td>\n",
       "      <td>1797.000000</td>\n",
       "    </tr>\n",
       "    <tr>\n",
       "      <th>mean</th>\n",
       "      <td>0.0</td>\n",
       "      <td>0.303840</td>\n",
       "      <td>5.204786</td>\n",
       "      <td>11.835838</td>\n",
       "      <td>11.848080</td>\n",
       "      <td>5.781859</td>\n",
       "      <td>1.362270</td>\n",
       "      <td>0.129661</td>\n",
       "      <td>0.005565</td>\n",
       "      <td>1.993879</td>\n",
       "      <td>...</td>\n",
       "      <td>0.206455</td>\n",
       "      <td>0.000556</td>\n",
       "      <td>0.279354</td>\n",
       "      <td>5.557596</td>\n",
       "      <td>12.089037</td>\n",
       "      <td>11.809126</td>\n",
       "      <td>6.764051</td>\n",
       "      <td>2.067891</td>\n",
       "      <td>0.364496</td>\n",
       "      <td>4.490818</td>\n",
       "    </tr>\n",
       "    <tr>\n",
       "      <th>std</th>\n",
       "      <td>0.0</td>\n",
       "      <td>0.907192</td>\n",
       "      <td>4.754826</td>\n",
       "      <td>4.248842</td>\n",
       "      <td>4.287388</td>\n",
       "      <td>5.666418</td>\n",
       "      <td>3.325775</td>\n",
       "      <td>1.037383</td>\n",
       "      <td>0.094222</td>\n",
       "      <td>3.196160</td>\n",
       "      <td>...</td>\n",
       "      <td>0.984401</td>\n",
       "      <td>0.023590</td>\n",
       "      <td>0.934302</td>\n",
       "      <td>5.103019</td>\n",
       "      <td>4.374694</td>\n",
       "      <td>4.933947</td>\n",
       "      <td>5.900623</td>\n",
       "      <td>4.090548</td>\n",
       "      <td>1.860122</td>\n",
       "      <td>2.865304</td>\n",
       "    </tr>\n",
       "    <tr>\n",
       "      <th>min</th>\n",
       "      <td>0.0</td>\n",
       "      <td>0.000000</td>\n",
       "      <td>0.000000</td>\n",
       "      <td>0.000000</td>\n",
       "      <td>0.000000</td>\n",
       "      <td>0.000000</td>\n",
       "      <td>0.000000</td>\n",
       "      <td>0.000000</td>\n",
       "      <td>0.000000</td>\n",
       "      <td>0.000000</td>\n",
       "      <td>...</td>\n",
       "      <td>0.000000</td>\n",
       "      <td>0.000000</td>\n",
       "      <td>0.000000</td>\n",
       "      <td>0.000000</td>\n",
       "      <td>0.000000</td>\n",
       "      <td>0.000000</td>\n",
       "      <td>0.000000</td>\n",
       "      <td>0.000000</td>\n",
       "      <td>0.000000</td>\n",
       "      <td>0.000000</td>\n",
       "    </tr>\n",
       "    <tr>\n",
       "      <th>25%</th>\n",
       "      <td>0.0</td>\n",
       "      <td>0.000000</td>\n",
       "      <td>1.000000</td>\n",
       "      <td>10.000000</td>\n",
       "      <td>10.000000</td>\n",
       "      <td>0.000000</td>\n",
       "      <td>0.000000</td>\n",
       "      <td>0.000000</td>\n",
       "      <td>0.000000</td>\n",
       "      <td>0.000000</td>\n",
       "      <td>...</td>\n",
       "      <td>0.000000</td>\n",
       "      <td>0.000000</td>\n",
       "      <td>0.000000</td>\n",
       "      <td>1.000000</td>\n",
       "      <td>11.000000</td>\n",
       "      <td>10.000000</td>\n",
       "      <td>0.000000</td>\n",
       "      <td>0.000000</td>\n",
       "      <td>0.000000</td>\n",
       "      <td>2.000000</td>\n",
       "    </tr>\n",
       "    <tr>\n",
       "      <th>50%</th>\n",
       "      <td>0.0</td>\n",
       "      <td>0.000000</td>\n",
       "      <td>4.000000</td>\n",
       "      <td>13.000000</td>\n",
       "      <td>13.000000</td>\n",
       "      <td>4.000000</td>\n",
       "      <td>0.000000</td>\n",
       "      <td>0.000000</td>\n",
       "      <td>0.000000</td>\n",
       "      <td>0.000000</td>\n",
       "      <td>...</td>\n",
       "      <td>0.000000</td>\n",
       "      <td>0.000000</td>\n",
       "      <td>0.000000</td>\n",
       "      <td>4.000000</td>\n",
       "      <td>13.000000</td>\n",
       "      <td>14.000000</td>\n",
       "      <td>6.000000</td>\n",
       "      <td>0.000000</td>\n",
       "      <td>0.000000</td>\n",
       "      <td>4.000000</td>\n",
       "    </tr>\n",
       "    <tr>\n",
       "      <th>75%</th>\n",
       "      <td>0.0</td>\n",
       "      <td>0.000000</td>\n",
       "      <td>9.000000</td>\n",
       "      <td>15.000000</td>\n",
       "      <td>15.000000</td>\n",
       "      <td>11.000000</td>\n",
       "      <td>0.000000</td>\n",
       "      <td>0.000000</td>\n",
       "      <td>0.000000</td>\n",
       "      <td>3.000000</td>\n",
       "      <td>...</td>\n",
       "      <td>0.000000</td>\n",
       "      <td>0.000000</td>\n",
       "      <td>0.000000</td>\n",
       "      <td>10.000000</td>\n",
       "      <td>16.000000</td>\n",
       "      <td>16.000000</td>\n",
       "      <td>12.000000</td>\n",
       "      <td>2.000000</td>\n",
       "      <td>0.000000</td>\n",
       "      <td>7.000000</td>\n",
       "    </tr>\n",
       "    <tr>\n",
       "      <th>max</th>\n",
       "      <td>0.0</td>\n",
       "      <td>8.000000</td>\n",
       "      <td>16.000000</td>\n",
       "      <td>16.000000</td>\n",
       "      <td>16.000000</td>\n",
       "      <td>16.000000</td>\n",
       "      <td>16.000000</td>\n",
       "      <td>15.000000</td>\n",
       "      <td>2.000000</td>\n",
       "      <td>16.000000</td>\n",
       "      <td>...</td>\n",
       "      <td>13.000000</td>\n",
       "      <td>1.000000</td>\n",
       "      <td>9.000000</td>\n",
       "      <td>16.000000</td>\n",
       "      <td>16.000000</td>\n",
       "      <td>16.000000</td>\n",
       "      <td>16.000000</td>\n",
       "      <td>16.000000</td>\n",
       "      <td>16.000000</td>\n",
       "      <td>9.000000</td>\n",
       "    </tr>\n",
       "  </tbody>\n",
       "</table>\n",
       "<p>8 rows × 65 columns</p>\n",
       "</div>"
      ],
      "text/plain": [
       "       pixel_0_0    pixel_0_1    pixel_0_2    pixel_0_3    pixel_0_4  \\\n",
       "count     1797.0  1797.000000  1797.000000  1797.000000  1797.000000   \n",
       "mean         0.0     0.303840     5.204786    11.835838    11.848080   \n",
       "std          0.0     0.907192     4.754826     4.248842     4.287388   \n",
       "min          0.0     0.000000     0.000000     0.000000     0.000000   \n",
       "25%          0.0     0.000000     1.000000    10.000000    10.000000   \n",
       "50%          0.0     0.000000     4.000000    13.000000    13.000000   \n",
       "75%          0.0     0.000000     9.000000    15.000000    15.000000   \n",
       "max          0.0     8.000000    16.000000    16.000000    16.000000   \n",
       "\n",
       "         pixel_0_5    pixel_0_6    pixel_0_7    pixel_1_0    pixel_1_1  ...  \\\n",
       "count  1797.000000  1797.000000  1797.000000  1797.000000  1797.000000  ...   \n",
       "mean      5.781859     1.362270     0.129661     0.005565     1.993879  ...   \n",
       "std       5.666418     3.325775     1.037383     0.094222     3.196160  ...   \n",
       "min       0.000000     0.000000     0.000000     0.000000     0.000000  ...   \n",
       "25%       0.000000     0.000000     0.000000     0.000000     0.000000  ...   \n",
       "50%       4.000000     0.000000     0.000000     0.000000     0.000000  ...   \n",
       "75%      11.000000     0.000000     0.000000     0.000000     3.000000  ...   \n",
       "max      16.000000    16.000000    15.000000     2.000000    16.000000  ...   \n",
       "\n",
       "         pixel_6_7    pixel_7_0    pixel_7_1    pixel_7_2    pixel_7_3  \\\n",
       "count  1797.000000  1797.000000  1797.000000  1797.000000  1797.000000   \n",
       "mean      0.206455     0.000556     0.279354     5.557596    12.089037   \n",
       "std       0.984401     0.023590     0.934302     5.103019     4.374694   \n",
       "min       0.000000     0.000000     0.000000     0.000000     0.000000   \n",
       "25%       0.000000     0.000000     0.000000     1.000000    11.000000   \n",
       "50%       0.000000     0.000000     0.000000     4.000000    13.000000   \n",
       "75%       0.000000     0.000000     0.000000    10.000000    16.000000   \n",
       "max      13.000000     1.000000     9.000000    16.000000    16.000000   \n",
       "\n",
       "         pixel_7_4    pixel_7_5    pixel_7_6    pixel_7_7       target  \n",
       "count  1797.000000  1797.000000  1797.000000  1797.000000  1797.000000  \n",
       "mean     11.809126     6.764051     2.067891     0.364496     4.490818  \n",
       "std       4.933947     5.900623     4.090548     1.860122     2.865304  \n",
       "min       0.000000     0.000000     0.000000     0.000000     0.000000  \n",
       "25%      10.000000     0.000000     0.000000     0.000000     2.000000  \n",
       "50%      14.000000     6.000000     0.000000     0.000000     4.000000  \n",
       "75%      16.000000    12.000000     2.000000     0.000000     7.000000  \n",
       "max      16.000000    16.000000    16.000000    16.000000     9.000000  \n",
       "\n",
       "[8 rows x 65 columns]"
      ]
     },
     "execution_count": 3,
     "metadata": {},
     "output_type": "execute_result"
    }
   ],
   "source": [
    "data.describe()"
   ]
  },
  {
   "cell_type": "markdown",
   "id": "e34934ab-c354-46c2-a69f-dc92b43f9dcb",
   "metadata": {},
   "source": [
    "The dataset is clean so won't be analyzed any further."
   ]
  },
  {
   "cell_type": "code",
   "execution_count": 4,
   "id": "ff029c11-b88a-41eb-8049-675b1e579c55",
   "metadata": {},
   "outputs": [],
   "source": [
    "data = load_digits()\n",
    "X_train, X_test, y_train, y_test = train_test_split(data.data, data.target, test_size = 0.25 )\n",
    "scaler = StandardScaler()\n",
    "X_train_scaled = scaler.fit_transform(X_train)\n",
    "X_test_scaled = scaler.transform(X_test)"
   ]
  },
  {
   "cell_type": "code",
   "execution_count": 5,
   "id": "6d476dde-3688-4a65-bb0e-a6fed32a119f",
   "metadata": {},
   "outputs": [],
   "source": [
    "#Neural Network\n",
    "def mlp():\n",
    "    RegularizedDense = partial(keras.layers.Dense,\n",
    "                               activation=\"selu\",\n",
    "                               kernel_initializer=\"lecun_normal\",\n",
    "                               kernel_regularizer=keras.regularizers.l2(0.01)\n",
    "                              )\n",
    "\n",
    "    mlp = keras.models.Sequential([\n",
    "        keras.layers.InputLayer(input_shape = [X_train.shape[1]]),\n",
    "        RegularizedDense(100),\n",
    "        RegularizedDense(120),\n",
    "        RegularizedDense(80),\n",
    "        keras.layers.Dense(10, activation = 'softmax')])\n",
    "\n",
    "    mlp.compile( loss = 'sparse_categorical_crossentropy', optimizer = 'Nadam', metrics = ['accuracy'])\n",
    "    \n",
    "    return mlp\n",
    "\n",
    "callback = keras.callbacks.EarlyStopping(monitor='accuracy', patience=30)"
   ]
  },
  {
   "cell_type": "code",
   "execution_count": 6,
   "id": "b00bfef4-e27a-4452-b7b7-dbe35158656f",
   "metadata": {},
   "outputs": [
    {
     "name": "stdout",
     "output_type": "stream",
     "text": [
      "INFO:tensorflow:Assets written to: C:\\Users\\ggiam\\AppData\\Local\\Temp\\tmpku95cz5z\\assets\n",
      "INFO:tensorflow:Assets written to: C:\\Users\\ggiam\\AppData\\Local\\Temp\\tmpf_a68jju\\assets\n",
      "INFO:tensorflow:Assets written to: C:\\Users\\ggiam\\AppData\\Local\\Temp\\tmp8u5t89vl\\assets\n",
      "INFO:tensorflow:Assets written to: C:\\Users\\ggiam\\AppData\\Local\\Temp\\tmpjubr564q\\assets\n",
      "INFO:tensorflow:Assets written to: C:\\Users\\ggiam\\AppData\\Local\\Temp\\tmpd7hpqord\\assets\n",
      "INFO:tensorflow:Assets written to: C:\\Users\\ggiam\\AppData\\Local\\Temp\\tmplxqvortw\\assets\n",
      "INFO:tensorflow:Assets written to: C:\\Users\\ggiam\\AppData\\Local\\Temp\\tmpaf6p2u4k\\assets\n",
      "INFO:tensorflow:Assets written to: C:\\Users\\ggiam\\AppData\\Local\\Temp\\tmprjycw9hd\\assets\n",
      "INFO:tensorflow:Assets written to: C:\\Users\\ggiam\\AppData\\Local\\Temp\\tmpxbcrltx0\\assets\n",
      "INFO:tensorflow:Assets written to: C:\\Users\\ggiam\\AppData\\Local\\Temp\\tmpws4nnp9u\\assets\n"
     ]
    }
   ],
   "source": [
    "cv = StratifiedKFold(n_splits = 5)\n",
    "mlp_wrap = KerasClassifier(mlp(), epochs = 100, callbacks = [callback], batch_size = 32)\n",
    "scores = cross_val_score(mlp_wrap, X_train_scaled, y_train, cv=cv, n_jobs=-1)"
   ]
  },
  {
   "cell_type": "code",
   "execution_count": 7,
   "id": "8676bcba-8457-473d-bcd8-1aaf41f56aa0",
   "metadata": {},
   "outputs": [
    {
     "data": {
      "text/plain": [
       "0.9561944100234063"
      ]
     },
     "execution_count": 7,
     "metadata": {},
     "output_type": "execute_result"
    }
   ],
   "source": [
    "scores.mean()"
   ]
  },
  {
   "cell_type": "code",
   "execution_count": 8,
   "id": "89f2799d-9af9-486c-916b-35908a09059d",
   "metadata": {},
   "outputs": [
    {
     "data": {
      "text/plain": [
       "0.9577777777777777"
      ]
     },
     "execution_count": 8,
     "metadata": {},
     "output_type": "execute_result"
    }
   ],
   "source": [
    "mlp_wrap = KerasClassifier(mlp(), epochs = 100, batch_size = 32, verbose=0, callbacks = [callback])\n",
    "mlp_wrap.fit(X_train_scaled, y_train)\n",
    "mlp_wrap.score(X_test_scaled, y_test)"
   ]
  },
  {
   "cell_type": "code",
   "execution_count": 9,
   "id": "05ade635-5e65-4365-8f1a-d188c0e99e51",
   "metadata": {},
   "outputs": [
    {
     "data": {
      "text/plain": [
       "Text(0.5, -0.9997599999999984, 'Predicted')"
      ]
     },
     "execution_count": 9,
     "metadata": {},
     "output_type": "execute_result"
    },
    {
     "data": {
      "image/png": "[encoded data removed]",
      "text/plain": [
       "<Figure size 1080x720 with 2 Axes>"
      ]
     },
     "metadata": {
      "needs_background": "light"
     },
     "output_type": "display_data"
    }
   ],
   "source": [
    "mlp_predictions = mlp_wrap.predict(X_test_scaled)\n",
    "mlp_cm = confusion_matrix(y_test, mlp_predictions)\n",
    "sns.heatmap(mlp_cm, annot=True)\n",
    "plt.ylabel('True')\n",
    "plt.xlabel('Predicted')"
   ]
  },
  {
   "cell_type": "code",
   "execution_count": 10,
   "id": "071a61d5-0e47-4e69-b6f0-b4e9aaa4da28",
   "metadata": {},
   "outputs": [
    {
     "name": "stdout",
     "output_type": "stream",
     "text": [
      "              precision    recall  f1-score   support\n",
      "\n",
      "           0       0.98      0.98      0.98        51\n",
      "           1       0.88      1.00      0.94        53\n",
      "           2       1.00      0.94      0.97        49\n",
      "           3       0.91      1.00      0.95        42\n",
      "           4       0.91      0.97      0.94        40\n",
      "           5       1.00      0.93      0.97        46\n",
      "           6       1.00      0.98      0.99        42\n",
      "           7       1.00      0.95      0.98        42\n",
      "           8       0.97      0.89      0.93        44\n",
      "           9       0.95      0.93      0.94        41\n",
      "\n",
      "    accuracy                           0.96       450\n",
      "   macro avg       0.96      0.96      0.96       450\n",
      "weighted avg       0.96      0.96      0.96       450\n",
      "\n"
     ]
    }
   ],
   "source": [
    "print(classification_report(y_test, mlp_predictions))"
   ]
  },
  {
   "cell_type": "markdown",
   "id": "9c90f295-9c26-411a-889b-f75fe5abff19",
   "metadata": {},
   "source": [
    "Let's try with a convolutional neural network"
   ]
  },
  {
   "cell_type": "code",
   "execution_count": 11,
   "id": "c994f1a5-20af-4f92-b2d6-b6f4798d6c56",
   "metadata": {
    "tags": []
   },
   "outputs": [],
   "source": [
    "#Convolutional neural network\n",
    "\n",
    "def cnn():\n",
    "    \n",
    "    DefaultConv2D = partial(keras.layers.Conv2D,\n",
    "                            kernel_size=3,\n",
    "                            activation='elu',\n",
    "                            padding=\"SAME\")\n",
    "    \n",
    "    cnn = keras.models.Sequential([\n",
    "        DefaultConv2D(filters=20, kernel_size=4, input_shape=[X_train_reshaped.shape[1], X_train_reshaped.shape[2], 1]),\n",
    "        keras.layers.MaxPooling2D(pool_size=2),\n",
    "        DefaultConv2D(filters=40),\n",
    "        DefaultConv2D(filters=40),\n",
    "        keras.layers.MaxPooling2D(pool_size=2),\n",
    "        DefaultConv2D(filters=80),\n",
    "        DefaultConv2D(filters=80),\n",
    "        keras.layers.MaxPooling2D(pool_size=2),\n",
    "        keras.layers.Flatten(),\n",
    "        keras.layers.Dense(units=40, activation='elu'),\n",
    "        keras.layers.Dropout(0.5),\n",
    "        keras.layers.Dense(units=20, activation='elu'),\n",
    "        keras.layers.Dropout(0.5),\n",
    "        keras.layers.Dense(units=10, activation='softmax'),\n",
    "    ])\n",
    "\n",
    "    cnn.compile( loss = 'sparse_categorical_crossentropy', optimizer = 'Nadam', metrics = ['accuracy'])\n",
    "    \n",
    "    return cnn"
   ]
  },
  {
   "cell_type": "code",
   "execution_count": 12,
   "id": "d430e24f-998c-43bc-8cb3-1ebed20932e4",
   "metadata": {},
   "outputs": [],
   "source": [
    "#reshape data\n",
    "X_train_reshaped = X_train_scaled.reshape((X_train_scaled.shape[0], 8, 8))\n",
    "X_test_reshaped = X_test_scaled.reshape((X_test_scaled.shape[0], 8, 8))"
   ]
  },
  {
   "cell_type": "code",
   "execution_count": 13,
   "id": "ad733c98-e66c-44b3-8899-0ed5512ed6ea",
   "metadata": {},
   "outputs": [
    {
     "name": "stderr",
     "output_type": "stream",
     "text": [
      "WARNING:absl:Found untraced functions such as _jit_compiled_convolution_op, _jit_compiled_convolution_op, _jit_compiled_convolution_op, _jit_compiled_convolution_op, _jit_compiled_convolution_op while saving (showing 5 of 5). These functions will not be directly callable after loading.\n"
     ]
    },
    {
     "name": "stdout",
     "output_type": "stream",
     "text": [
      "INFO:tensorflow:Assets written to: C:\\Users\\ggiam\\AppData\\Local\\Temp\\tmp74bk_kkd\\assets\n"
     ]
    },
    {
     "name": "stderr",
     "output_type": "stream",
     "text": [
      "INFO:tensorflow:Assets written to: C:\\Users\\ggiam\\AppData\\Local\\Temp\\tmp74bk_kkd\\assets\n"
     ]
    },
    {
     "name": "stdout",
     "output_type": "stream",
     "text": [
      "INFO:tensorflow:Assets written to: C:\\Users\\ggiam\\AppData\\Local\\Temp\\tmppymkqh07\\assets\n"
     ]
    },
    {
     "name": "stderr",
     "output_type": "stream",
     "text": [
      "INFO:tensorflow:Assets written to: C:\\Users\\ggiam\\AppData\\Local\\Temp\\tmppymkqh07\\assets\n",
      "WARNING:absl:Found untraced functions such as _jit_compiled_convolution_op, _jit_compiled_convolution_op, _jit_compiled_convolution_op, _jit_compiled_convolution_op, _jit_compiled_convolution_op while saving (showing 5 of 5). These functions will not be directly callable after loading.\n"
     ]
    },
    {
     "name": "stdout",
     "output_type": "stream",
     "text": [
      "INFO:tensorflow:Assets written to: C:\\Users\\ggiam\\AppData\\Local\\Temp\\tmpc57m_w_i\\assets\n"
     ]
    },
    {
     "name": "stderr",
     "output_type": "stream",
     "text": [
      "INFO:tensorflow:Assets written to: C:\\Users\\ggiam\\AppData\\Local\\Temp\\tmpc57m_w_i\\assets\n"
     ]
    },
    {
     "name": "stdout",
     "output_type": "stream",
     "text": [
      "INFO:tensorflow:Assets written to: C:\\Users\\ggiam\\AppData\\Local\\Temp\\tmpj8d6lcfr\\assets\n"
     ]
    },
    {
     "name": "stderr",
     "output_type": "stream",
     "text": [
      "INFO:tensorflow:Assets written to: C:\\Users\\ggiam\\AppData\\Local\\Temp\\tmpj8d6lcfr\\assets\n",
      "WARNING:absl:Found untraced functions such as _jit_compiled_convolution_op, _jit_compiled_convolution_op, _jit_compiled_convolution_op, _jit_compiled_convolution_op, _jit_compiled_convolution_op while saving (showing 5 of 5). These functions will not be directly callable after loading.\n"
     ]
    },
    {
     "name": "stdout",
     "output_type": "stream",
     "text": [
      "INFO:tensorflow:Assets written to: C:\\Users\\ggiam\\AppData\\Local\\Temp\\tmpjaewylfm\\assets\n"
     ]
    },
    {
     "name": "stderr",
     "output_type": "stream",
     "text": [
      "INFO:tensorflow:Assets written to: C:\\Users\\ggiam\\AppData\\Local\\Temp\\tmpjaewylfm\\assets\n"
     ]
    },
    {
     "name": "stdout",
     "output_type": "stream",
     "text": [
      "INFO:tensorflow:Assets written to: C:\\Users\\ggiam\\AppData\\Local\\Temp\\tmppsle9vwo\\assets\n"
     ]
    },
    {
     "name": "stderr",
     "output_type": "stream",
     "text": [
      "INFO:tensorflow:Assets written to: C:\\Users\\ggiam\\AppData\\Local\\Temp\\tmppsle9vwo\\assets\n",
      "WARNING:absl:Found untraced functions such as _jit_compiled_convolution_op, _jit_compiled_convolution_op, _jit_compiled_convolution_op, _jit_compiled_convolution_op, _jit_compiled_convolution_op while saving (showing 5 of 5). These functions will not be directly callable after loading.\n"
     ]
    },
    {
     "name": "stdout",
     "output_type": "stream",
     "text": [
      "INFO:tensorflow:Assets written to: C:\\Users\\ggiam\\AppData\\Local\\Temp\\tmp2iwyo6g4\\assets\n"
     ]
    },
    {
     "name": "stderr",
     "output_type": "stream",
     "text": [
      "INFO:tensorflow:Assets written to: C:\\Users\\ggiam\\AppData\\Local\\Temp\\tmp2iwyo6g4\\assets\n"
     ]
    },
    {
     "name": "stdout",
     "output_type": "stream",
     "text": [
      "INFO:tensorflow:Assets written to: C:\\Users\\ggiam\\AppData\\Local\\Temp\\tmphawhx721\\assets\n"
     ]
    },
    {
     "name": "stderr",
     "output_type": "stream",
     "text": [
      "INFO:tensorflow:Assets written to: C:\\Users\\ggiam\\AppData\\Local\\Temp\\tmphawhx721\\assets\n",
      "WARNING:absl:Found untraced functions such as _jit_compiled_convolution_op, _jit_compiled_convolution_op, _jit_compiled_convolution_op, _jit_compiled_convolution_op, _jit_compiled_convolution_op while saving (showing 5 of 5). These functions will not be directly callable after loading.\n"
     ]
    },
    {
     "name": "stdout",
     "output_type": "stream",
     "text": [
      "INFO:tensorflow:Assets written to: C:\\Users\\ggiam\\AppData\\Local\\Temp\\tmpcjc4fcgd\\assets\n"
     ]
    },
    {
     "name": "stderr",
     "output_type": "stream",
     "text": [
      "INFO:tensorflow:Assets written to: C:\\Users\\ggiam\\AppData\\Local\\Temp\\tmpcjc4fcgd\\assets\n"
     ]
    },
    {
     "name": "stdout",
     "output_type": "stream",
     "text": [
      "INFO:tensorflow:Assets written to: C:\\Users\\ggiam\\AppData\\Local\\Temp\\tmpxps03f67\\assets\n"
     ]
    },
    {
     "name": "stderr",
     "output_type": "stream",
     "text": [
      "INFO:tensorflow:Assets written to: C:\\Users\\ggiam\\AppData\\Local\\Temp\\tmpxps03f67\\assets\n",
      "WARNING:absl:Found untraced functions such as _jit_compiled_convolution_op, _jit_compiled_convolution_op, _jit_compiled_convolution_op, _jit_compiled_convolution_op, _jit_compiled_convolution_op while saving (showing 5 of 5). These functions will not be directly callable after loading.\n"
     ]
    },
    {
     "name": "stdout",
     "output_type": "stream",
     "text": [
      "INFO:tensorflow:Assets written to: C:\\Users\\ggiam\\AppData\\Local\\Temp\\tmpq97hwuj8\\assets\n"
     ]
    },
    {
     "name": "stderr",
     "output_type": "stream",
     "text": [
      "INFO:tensorflow:Assets written to: C:\\Users\\ggiam\\AppData\\Local\\Temp\\tmpq97hwuj8\\assets\n"
     ]
    },
    {
     "name": "stdout",
     "output_type": "stream",
     "text": [
      "INFO:tensorflow:Assets written to: C:\\Users\\ggiam\\AppData\\Local\\Temp\\tmpznynbc35\\assets\n"
     ]
    },
    {
     "name": "stderr",
     "output_type": "stream",
     "text": [
      "INFO:tensorflow:Assets written to: C:\\Users\\ggiam\\AppData\\Local\\Temp\\tmpznynbc35\\assets\n",
      "WARNING:absl:Found untraced functions such as _jit_compiled_convolution_op, _jit_compiled_convolution_op, _jit_compiled_convolution_op, _jit_compiled_convolution_op, _jit_compiled_convolution_op while saving (showing 5 of 5). These functions will not be directly callable after loading.\n"
     ]
    },
    {
     "name": "stdout",
     "output_type": "stream",
     "text": [
      "INFO:tensorflow:Assets written to: C:\\Users\\ggiam\\AppData\\Local\\Temp\\tmpu9tyyzyz\\assets\n"
     ]
    },
    {
     "name": "stderr",
     "output_type": "stream",
     "text": [
      "INFO:tensorflow:Assets written to: C:\\Users\\ggiam\\AppData\\Local\\Temp\\tmpu9tyyzyz\\assets\n"
     ]
    },
    {
     "name": "stdout",
     "output_type": "stream",
     "text": [
      "INFO:tensorflow:Assets written to: C:\\Users\\ggiam\\AppData\\Local\\Temp\\tmpk8u2dtr0\\assets\n"
     ]
    },
    {
     "name": "stderr",
     "output_type": "stream",
     "text": [
      "INFO:tensorflow:Assets written to: C:\\Users\\ggiam\\AppData\\Local\\Temp\\tmpk8u2dtr0\\assets\n",
      "WARNING:absl:Found untraced functions such as _jit_compiled_convolution_op, _jit_compiled_convolution_op, _jit_compiled_convolution_op, _jit_compiled_convolution_op, _jit_compiled_convolution_op while saving (showing 5 of 5). These functions will not be directly callable after loading.\n"
     ]
    },
    {
     "name": "stdout",
     "output_type": "stream",
     "text": [
      "INFO:tensorflow:Assets written to: C:\\Users\\ggiam\\AppData\\Local\\Temp\\tmpjrpwkaju\\assets\n"
     ]
    },
    {
     "name": "stderr",
     "output_type": "stream",
     "text": [
      "INFO:tensorflow:Assets written to: C:\\Users\\ggiam\\AppData\\Local\\Temp\\tmpjrpwkaju\\assets\n"
     ]
    },
    {
     "name": "stdout",
     "output_type": "stream",
     "text": [
      "INFO:tensorflow:Assets written to: C:\\Users\\ggiam\\AppData\\Local\\Temp\\tmpo81a2m7t\\assets\n"
     ]
    },
    {
     "name": "stderr",
     "output_type": "stream",
     "text": [
      "INFO:tensorflow:Assets written to: C:\\Users\\ggiam\\AppData\\Local\\Temp\\tmpo81a2m7t\\assets\n",
      "WARNING:absl:Found untraced functions such as _jit_compiled_convolution_op, _jit_compiled_convolution_op, _jit_compiled_convolution_op, _jit_compiled_convolution_op, _jit_compiled_convolution_op while saving (showing 5 of 5). These functions will not be directly callable after loading.\n"
     ]
    },
    {
     "name": "stdout",
     "output_type": "stream",
     "text": [
      "INFO:tensorflow:Assets written to: C:\\Users\\ggiam\\AppData\\Local\\Temp\\tmpdtf8jf4s\\assets\n"
     ]
    },
    {
     "name": "stderr",
     "output_type": "stream",
     "text": [
      "INFO:tensorflow:Assets written to: C:\\Users\\ggiam\\AppData\\Local\\Temp\\tmpdtf8jf4s\\assets\n"
     ]
    },
    {
     "name": "stdout",
     "output_type": "stream",
     "text": [
      "INFO:tensorflow:Assets written to: C:\\Users\\ggiam\\AppData\\Local\\Temp\\tmpf2544_14\\assets\n"
     ]
    },
    {
     "name": "stderr",
     "output_type": "stream",
     "text": [
      "INFO:tensorflow:Assets written to: C:\\Users\\ggiam\\AppData\\Local\\Temp\\tmpf2544_14\\assets\n",
      "WARNING:absl:Found untraced functions such as _jit_compiled_convolution_op, _jit_compiled_convolution_op, _jit_compiled_convolution_op, _jit_compiled_convolution_op, _jit_compiled_convolution_op while saving (showing 5 of 5). These functions will not be directly callable after loading.\n"
     ]
    },
    {
     "name": "stdout",
     "output_type": "stream",
     "text": [
      "INFO:tensorflow:Assets written to: C:\\Users\\ggiam\\AppData\\Local\\Temp\\tmp9a75k3ev\\assets\n"
     ]
    },
    {
     "name": "stderr",
     "output_type": "stream",
     "text": [
      "INFO:tensorflow:Assets written to: C:\\Users\\ggiam\\AppData\\Local\\Temp\\tmp9a75k3ev\\assets\n"
     ]
    },
    {
     "name": "stdout",
     "output_type": "stream",
     "text": [
      "INFO:tensorflow:Assets written to: C:\\Users\\ggiam\\AppData\\Local\\Temp\\tmpcc0oxzbl\\assets\n"
     ]
    },
    {
     "name": "stderr",
     "output_type": "stream",
     "text": [
      "INFO:tensorflow:Assets written to: C:\\Users\\ggiam\\AppData\\Local\\Temp\\tmpcc0oxzbl\\assets\n"
     ]
    }
   ],
   "source": [
    "cv = StratifiedKFold(n_splits = 5)\n",
    "cnn_wrap = KerasClassifier(cnn(), epochs = 100, callbacks = [callback], batch_size = 32)\n",
    "scores = cross_val_score(cnn_wrap, X_train_reshaped, y_train, cv=cv, n_jobs=-1)"
   ]
  },
  {
   "cell_type": "code",
   "execution_count": 14,
   "id": "b5a9ff07-dcbe-4136-9362-f184c2c24c03",
   "metadata": {},
   "outputs": [
    {
     "data": {
      "text/plain": [
       "0.9792096929643399"
      ]
     },
     "execution_count": 14,
     "metadata": {},
     "output_type": "execute_result"
    }
   ],
   "source": [
    "scores.mean()"
   ]
  },
  {
   "cell_type": "code",
   "execution_count": 15,
   "id": "5add4f81-9f14-4d75-94d7-5054c8923ac4",
   "metadata": {},
   "outputs": [
    {
     "name": "stdout",
     "output_type": "stream",
     "text": [
      "Epoch 1/100\n",
      "43/43 [==============================] - 2s 5ms/step - loss: 1.7925 - accuracy: 0.3764\n",
      "Epoch 2/100\n",
      "43/43 [==============================] - 0s 5ms/step - loss: 0.9806 - accuracy: 0.6756\n",
      "Epoch 3/100\n",
      "43/43 [==============================] - 0s 5ms/step - loss: 0.7021 - accuracy: 0.7624\n",
      "Epoch 4/100\n",
      "43/43 [==============================] - 0s 5ms/step - loss: 0.5252 - accuracy: 0.8270\n",
      "Epoch 5/100\n",
      "43/43 [==============================] - 0s 5ms/step - loss: 0.4719 - accuracy: 0.8448\n",
      "Epoch 6/100\n",
      "43/43 [==============================] - 0s 5ms/step - loss: 0.3915 - accuracy: 0.8753\n",
      "Epoch 7/100\n",
      "43/43 [==============================] - 0s 5ms/step - loss: 0.3133 - accuracy: 0.9035\n",
      "Epoch 8/100\n",
      "43/43 [==============================] - 0s 5ms/step - loss: 0.3072 - accuracy: 0.9005\n",
      "Epoch 9/100\n",
      "43/43 [==============================] - 0s 5ms/step - loss: 0.2598 - accuracy: 0.9109\n",
      "Epoch 10/100\n",
      "43/43 [==============================] - 0s 5ms/step - loss: 0.2303 - accuracy: 0.9250\n",
      "Epoch 11/100\n",
      "43/43 [==============================] - 0s 5ms/step - loss: 0.2548 - accuracy: 0.9161\n",
      "Epoch 12/100\n",
      "43/43 [==============================] - 0s 5ms/step - loss: 0.2222 - accuracy: 0.9295\n",
      "Epoch 13/100\n",
      "43/43 [==============================] - 0s 5ms/step - loss: 0.1706 - accuracy: 0.9525\n",
      "Epoch 14/100\n",
      "43/43 [==============================] - 0s 5ms/step - loss: 0.1925 - accuracy: 0.9376\n",
      "Epoch 15/100\n",
      "43/43 [==============================] - 0s 5ms/step - loss: 0.1758 - accuracy: 0.9451\n",
      "Epoch 16/100\n",
      "43/43 [==============================] - 0s 5ms/step - loss: 0.1561 - accuracy: 0.9451\n",
      "Epoch 17/100\n",
      "43/43 [==============================] - 0s 5ms/step - loss: 0.2143 - accuracy: 0.9465\n",
      "Epoch 18/100\n",
      "43/43 [==============================] - 0s 5ms/step - loss: 0.1739 - accuracy: 0.9517\n",
      "Epoch 19/100\n",
      "43/43 [==============================] - 0s 5ms/step - loss: 0.1294 - accuracy: 0.9621\n",
      "Epoch 20/100\n",
      "43/43 [==============================] - 0s 5ms/step - loss: 0.1598 - accuracy: 0.9532\n",
      "Epoch 21/100\n",
      "43/43 [==============================] - 0s 5ms/step - loss: 0.1547 - accuracy: 0.9480\n",
      "Epoch 22/100\n",
      "43/43 [==============================] - 0s 5ms/step - loss: 0.1393 - accuracy: 0.9555\n",
      "Epoch 23/100\n",
      "43/43 [==============================] - 0s 5ms/step - loss: 0.1238 - accuracy: 0.9636\n",
      "Epoch 24/100\n",
      "43/43 [==============================] - 0s 5ms/step - loss: 0.1250 - accuracy: 0.9592\n",
      "Epoch 25/100\n",
      "43/43 [==============================] - 0s 5ms/step - loss: 0.1111 - accuracy: 0.9681\n",
      "Epoch 26/100\n",
      "43/43 [==============================] - 0s 5ms/step - loss: 0.1036 - accuracy: 0.9688\n",
      "Epoch 27/100\n",
      "43/43 [==============================] - 0s 5ms/step - loss: 0.1050 - accuracy: 0.9688\n",
      "Epoch 28/100\n",
      "43/43 [==============================] - 0s 5ms/step - loss: 0.1057 - accuracy: 0.9703\n",
      "Epoch 29/100\n",
      "43/43 [==============================] - 0s 5ms/step - loss: 0.1105 - accuracy: 0.9644\n",
      "Epoch 30/100\n",
      "43/43 [==============================] - 0s 6ms/step - loss: 0.1160 - accuracy: 0.9651\n",
      "Epoch 31/100\n",
      "43/43 [==============================] - 0s 6ms/step - loss: 0.1054 - accuracy: 0.9659\n",
      "Epoch 32/100\n",
      "43/43 [==============================] - 0s 6ms/step - loss: 0.0972 - accuracy: 0.9696\n",
      "Epoch 33/100\n",
      "43/43 [==============================] - 0s 5ms/step - loss: 0.0991 - accuracy: 0.9636\n",
      "Epoch 34/100\n",
      "43/43 [==============================] - 0s 5ms/step - loss: 0.0959 - accuracy: 0.9696\n",
      "Epoch 35/100\n",
      "43/43 [==============================] - 0s 5ms/step - loss: 0.0781 - accuracy: 0.9777\n",
      "Epoch 36/100\n",
      "43/43 [==============================] - 0s 5ms/step - loss: 0.0930 - accuracy: 0.9696\n",
      "Epoch 37/100\n",
      "43/43 [==============================] - 0s 5ms/step - loss: 0.0876 - accuracy: 0.9718\n",
      "Epoch 38/100\n",
      "43/43 [==============================] - 0s 5ms/step - loss: 0.0939 - accuracy: 0.9710\n",
      "Epoch 39/100\n",
      "43/43 [==============================] - 0s 5ms/step - loss: 0.0790 - accuracy: 0.9785\n",
      "Epoch 40/100\n",
      "43/43 [==============================] - 0s 5ms/step - loss: 0.0948 - accuracy: 0.9666\n",
      "Epoch 41/100\n",
      "43/43 [==============================] - 0s 4ms/step - loss: 0.0797 - accuracy: 0.9762\n",
      "Epoch 42/100\n",
      "43/43 [==============================] - 0s 5ms/step - loss: 0.1486 - accuracy: 0.9636\n",
      "Epoch 43/100\n",
      "43/43 [==============================] - 0s 5ms/step - loss: 0.2655 - accuracy: 0.9339\n",
      "Epoch 44/100\n",
      "43/43 [==============================] - 0s 5ms/step - loss: 0.1351 - accuracy: 0.9607\n",
      "Epoch 45/100\n",
      "43/43 [==============================] - 0s 5ms/step - loss: 0.1090 - accuracy: 0.9696\n",
      "Epoch 46/100\n",
      "43/43 [==============================] - 0s 5ms/step - loss: 0.0917 - accuracy: 0.9785\n",
      "Epoch 47/100\n",
      "43/43 [==============================] - 0s 5ms/step - loss: 0.0887 - accuracy: 0.9718\n",
      "Epoch 48/100\n",
      "43/43 [==============================] - 0s 5ms/step - loss: 0.0722 - accuracy: 0.9792\n",
      "Epoch 49/100\n",
      "43/43 [==============================] - 0s 5ms/step - loss: 0.0952 - accuracy: 0.9748\n",
      "Epoch 50/100\n",
      "43/43 [==============================] - 0s 5ms/step - loss: 0.0774 - accuracy: 0.9770\n",
      "Epoch 51/100\n",
      "43/43 [==============================] - 0s 6ms/step - loss: 0.0671 - accuracy: 0.9807\n",
      "Epoch 52/100\n",
      "43/43 [==============================] - 0s 5ms/step - loss: 0.0698 - accuracy: 0.9814\n",
      "Epoch 53/100\n",
      "43/43 [==============================] - 0s 6ms/step - loss: 0.0773 - accuracy: 0.9718\n",
      "Epoch 54/100\n",
      "43/43 [==============================] - 0s 6ms/step - loss: 0.0881 - accuracy: 0.9725\n",
      "Epoch 55/100\n",
      "43/43 [==============================] - 0s 6ms/step - loss: 0.0723 - accuracy: 0.9755\n",
      "Epoch 56/100\n",
      "43/43 [==============================] - 0s 6ms/step - loss: 0.0606 - accuracy: 0.9852\n",
      "Epoch 57/100\n",
      "43/43 [==============================] - 0s 6ms/step - loss: 0.0781 - accuracy: 0.9755\n",
      "Epoch 58/100\n",
      "43/43 [==============================] - 0s 6ms/step - loss: 0.0778 - accuracy: 0.9748\n",
      "Epoch 59/100\n",
      "43/43 [==============================] - 0s 5ms/step - loss: 0.0675 - accuracy: 0.9807\n",
      "Epoch 60/100\n",
      "43/43 [==============================] - 0s 5ms/step - loss: 0.1477 - accuracy: 0.9599\n",
      "Epoch 61/100\n",
      "43/43 [==============================] - 0s 6ms/step - loss: 0.1303 - accuracy: 0.9599\n",
      "Epoch 62/100\n",
      "43/43 [==============================] - 0s 6ms/step - loss: 0.1262 - accuracy: 0.9614\n",
      "Epoch 63/100\n",
      "43/43 [==============================] - 0s 5ms/step - loss: 0.0961 - accuracy: 0.9666\n",
      "Epoch 64/100\n",
      "43/43 [==============================] - 0s 5ms/step - loss: 0.0858 - accuracy: 0.9740\n",
      "Epoch 65/100\n",
      "43/43 [==============================] - 0s 5ms/step - loss: 0.0873 - accuracy: 0.9710\n",
      "Epoch 66/100\n",
      "43/43 [==============================] - 0s 5ms/step - loss: 0.1150 - accuracy: 0.9725\n",
      "Epoch 67/100\n",
      "43/43 [==============================] - 0s 5ms/step - loss: 0.0808 - accuracy: 0.9777\n",
      "Epoch 68/100\n",
      "43/43 [==============================] - 0s 5ms/step - loss: 0.0909 - accuracy: 0.9681\n",
      "Epoch 69/100\n",
      "43/43 [==============================] - 0s 5ms/step - loss: 0.0696 - accuracy: 0.9777\n",
      "Epoch 70/100\n",
      "43/43 [==============================] - 0s 5ms/step - loss: 0.0669 - accuracy: 0.9837\n",
      "Epoch 71/100\n",
      "43/43 [==============================] - 0s 6ms/step - loss: 0.0615 - accuracy: 0.9814\n",
      "Epoch 72/100\n",
      "43/43 [==============================] - 0s 5ms/step - loss: 0.0587 - accuracy: 0.9814\n",
      "Epoch 73/100\n",
      "43/43 [==============================] - 0s 5ms/step - loss: 0.0613 - accuracy: 0.9807\n",
      "Epoch 74/100\n",
      "43/43 [==============================] - 0s 5ms/step - loss: 0.0662 - accuracy: 0.9755\n",
      "Epoch 75/100\n",
      "43/43 [==============================] - 0s 5ms/step - loss: 0.0670 - accuracy: 0.9777\n",
      "Epoch 76/100\n",
      "43/43 [==============================] - 0s 5ms/step - loss: 0.0528 - accuracy: 0.9844\n",
      "Epoch 77/100\n",
      "43/43 [==============================] - 0s 5ms/step - loss: 0.0649 - accuracy: 0.9770\n",
      "Epoch 78/100\n",
      "43/43 [==============================] - 0s 5ms/step - loss: 0.0720 - accuracy: 0.9800\n",
      "Epoch 79/100\n",
      "43/43 [==============================] - 0s 5ms/step - loss: 0.0658 - accuracy: 0.9777\n",
      "Epoch 80/100\n",
      "43/43 [==============================] - 0s 5ms/step - loss: 0.0500 - accuracy: 0.9889\n",
      "Epoch 81/100\n",
      "43/43 [==============================] - 0s 6ms/step - loss: 0.0668 - accuracy: 0.9822\n",
      "Epoch 82/100\n",
      "43/43 [==============================] - 0s 5ms/step - loss: 0.0637 - accuracy: 0.9814\n",
      "Epoch 83/100\n",
      "43/43 [==============================] - 0s 5ms/step - loss: 0.0621 - accuracy: 0.9792\n",
      "Epoch 84/100\n",
      "43/43 [==============================] - 0s 5ms/step - loss: 0.1760 - accuracy: 0.9607\n",
      "Epoch 85/100\n",
      "43/43 [==============================] - 0s 5ms/step - loss: 0.2790 - accuracy: 0.9391\n",
      "Epoch 86/100\n",
      "43/43 [==============================] - 0s 5ms/step - loss: 0.1068 - accuracy: 0.9659\n",
      "Epoch 87/100\n",
      "43/43 [==============================] - 0s 7ms/step - loss: 0.0742 - accuracy: 0.9785\n",
      "Epoch 88/100\n",
      "43/43 [==============================] - 0s 7ms/step - loss: 0.1127 - accuracy: 0.9681\n",
      "Epoch 89/100\n",
      "43/43 [==============================] - 0s 7ms/step - loss: 0.0898 - accuracy: 0.9740\n",
      "Epoch 90/100\n",
      "43/43 [==============================] - 0s 7ms/step - loss: 0.0761 - accuracy: 0.9792\n",
      "Epoch 91/100\n",
      "43/43 [==============================] - 0s 8ms/step - loss: 0.0515 - accuracy: 0.9814\n",
      "Epoch 92/100\n",
      "43/43 [==============================] - 0s 7ms/step - loss: 0.0661 - accuracy: 0.9792\n",
      "Epoch 93/100\n",
      "43/43 [==============================] - 0s 7ms/step - loss: 0.0539 - accuracy: 0.9829\n",
      "Epoch 94/100\n",
      "43/43 [==============================] - 0s 7ms/step - loss: 0.0643 - accuracy: 0.9785\n",
      "Epoch 95/100\n",
      "43/43 [==============================] - 0s 7ms/step - loss: 0.0684 - accuracy: 0.9800\n",
      "Epoch 96/100\n",
      "43/43 [==============================] - 0s 7ms/step - loss: 0.0686 - accuracy: 0.9770\n",
      "Epoch 97/100\n",
      "43/43 [==============================] - 0s 8ms/step - loss: 0.0977 - accuracy: 0.9859\n",
      "Epoch 98/100\n",
      "43/43 [==============================] - 0s 7ms/step - loss: 0.0724 - accuracy: 0.9777\n",
      "Epoch 99/100\n",
      "43/43 [==============================] - 0s 7ms/step - loss: 0.0548 - accuracy: 0.9859\n",
      "Epoch 100/100\n",
      "43/43 [==============================] - 0s 7ms/step - loss: 0.0694 - accuracy: 0.9777\n",
      "15/15 [==============================] - 0s 2ms/step\n"
     ]
    },
    {
     "data": {
      "text/plain": [
       "0.9933333333333333"
      ]
     },
     "execution_count": 15,
     "metadata": {},
     "output_type": "execute_result"
    }
   ],
   "source": [
    "cnn_wrap = KerasClassifier(cnn(), epochs = 100, batch_size = 32, verbose=1)\n",
    "cnn_wrap.fit(X_train_reshaped, y_train)\n",
    "cnn_wrap.score(X_test_reshaped, y_test)"
   ]
  },
  {
   "cell_type": "code",
   "execution_count": 16,
   "id": "d9d69cc3-4875-4ec2-901c-4063d3fdf90d",
   "metadata": {},
   "outputs": [
    {
     "name": "stdout",
     "output_type": "stream",
     "text": [
      "15/15 [==============================] - 0s 2ms/step\n"
     ]
    },
    {
     "data": {
      "text/plain": [
       "Text(0.5, -0.9997599999999984, 'Predicted')"
      ]
     },
     "execution_count": 16,
     "metadata": {},
     "output_type": "execute_result"
    },
    {
     "data": {
      "image/png": "[encoded data removed]",
      "text/plain": [
       "<Figure size 1080x720 with 2 Axes>"
      ]
     },
     "metadata": {
      "needs_background": "light"
     },
     "output_type": "display_data"
    }
   ],
   "source": [
    "cnn_predictions = cnn_wrap.predict(X_test_reshaped)\n",
    "cnn_cm = confusion_matrix(y_test, cnn_predictions)\n",
    "sns.heatmap(cnn_cm, annot=True)\n",
    "plt.ylabel('True')\n",
    "plt.xlabel('Predicted')"
   ]
  },
  {
   "cell_type": "code",
   "execution_count": 17,
   "id": "abe5d8f7-6b68-4d8d-8d9d-fabea0216330",
   "metadata": {},
   "outputs": [
    {
     "name": "stdout",
     "output_type": "stream",
     "text": [
      "              precision    recall  f1-score   support\n",
      "\n",
      "           0       0.96      1.00      0.98        51\n",
      "           1       0.98      1.00      0.99        53\n",
      "           2       1.00      1.00      1.00        49\n",
      "           3       1.00      1.00      1.00        42\n",
      "           4       1.00      1.00      1.00        40\n",
      "           5       1.00      1.00      1.00        46\n",
      "           6       1.00      0.95      0.98        42\n",
      "           7       1.00      1.00      1.00        42\n",
      "           8       1.00      0.98      0.99        44\n",
      "           9       1.00      1.00      1.00        41\n",
      "\n",
      "    accuracy                           0.99       450\n",
      "   macro avg       0.99      0.99      0.99       450\n",
      "weighted avg       0.99      0.99      0.99       450\n",
      "\n"
     ]
    }
   ],
   "source": [
    "print(classification_report(y_test, cnn_predictions))"
   ]
  },
  {
   "cell_type": "markdown",
   "id": "3e18c32e-3c43-4a66-b893-7ba0def9217c",
   "metadata": {},
   "source": [
    "Compared to the mlp the cnn's predictions are more accurate, there are less missclassification."
   ]
  },
  {
   "cell_type": "markdown",
   "id": "8355850f-23a5-43e9-923c-a2c33820dcac",
   "metadata": {},
   "source": [
    "Conclusion: CNN performs slightly better than MLP on this dataset.\n",
    "<br> \n",
    "This was expected due to the nature of the problem (image classification)"
   ]
  }
 ],
 "metadata": {
  "kernelspec": {
   "display_name": "Python 3 (ipykernel)",
   "language": "python",
   "name": "python3"
  },
  "language_info": {
   "codemirror_mode": {
    "name": "ipython",
    "version": 3
   },
   "file_extension": ".py",
   "mimetype": "text/x-python",
   "name": "python",
   "nbconvert_exporter": "python",
   "pygments_lexer": "ipython3",
   "version": "3.9.12"
  }
 },
 "nbformat": 4,
 "nbformat_minor": 5
}
