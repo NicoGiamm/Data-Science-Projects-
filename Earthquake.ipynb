{
 "cells": [
  {
   "cell_type": "code",
   "execution_count": 1,
   "id": "f269bf04-6b74-4bc9-b048-81e5587693d8",
   "metadata": {
    "slideshow": {
     "slide_type": "notes"
    },
    "tags": []
   },
   "outputs": [],
   "source": [
    "import pandas as pd\n",
    "import seaborn as sns\n",
    "import matplotlib.pyplot as plt \n",
    "import numpy as np\n",
    "from pandas.plotting import scatter_matrix\n",
    "from sklearn.model_selection import train_test_split, StratifiedKFold, GridSearchCV\n",
    "from sklearn.preprocessing import StandardScaler, OrdinalEncoder, LabelEncoder, MinMaxScaler\n",
    "from sklearn.svm import SVC, LinearSVC\n",
    "from tensorflow import keras\n",
    "from functools import partial\n",
    "from sklearn.metrics import classification_report, confusion_matrix\n",
    "from sklearn.ensemble import RandomForestClassifier, GradientBoostingClassifier, BaggingClassifier\n",
    "%matplotlib inline\n",
    "plt.rcParams[\"figure.figsize\"] = (15,10)\n",
    "plt.rcParams['figure.constrained_layout.use'] = True"
   ]
  },
  {
   "cell_type": "code",
   "execution_count": 2,
   "id": "d156a4f5-465a-449c-9f38-02de0331ddfc",
   "metadata": {},
   "outputs": [],
   "source": [
    "url = 'https://raw.githubusercontent.com/fivethirtyeight/data/master/san-andreas/earthquake_data.csv'\n",
    "data = pd.read_csv(url, index_col = 0)"
   ]
  },
  {
   "cell_type": "code",
   "execution_count": 3,
   "id": "2defc782-3880-4bc0-ab57-de15e0041fcf",
   "metadata": {
    "tags": []
   },
   "outputs": [
    {
     "data": {
      "text/html": [
       "<div>\n",
       "<style scoped>\n",
       "    .dataframe tbody tr th:only-of-type {\n",
       "        vertical-align: middle;\n",
       "    }\n",
       "\n",
       "    .dataframe tbody tr th {\n",
       "        vertical-align: top;\n",
       "    }\n",
       "\n",
       "    .dataframe thead th {\n",
       "        text-align: right;\n",
       "    }\n",
       "</style>\n",
       "<table border=\"1\" class=\"dataframe\">\n",
       "  <thead>\n",
       "    <tr style=\"text-align: right;\">\n",
       "      <th></th>\n",
       "      <th>How worried are you about the Big One, a massive, catastrophic earthquake?</th>\n",
       "      <th>Do you think the \"Big One\" will occur in your lifetime?</th>\n",
       "      <th>Have you ever experienced an earthquake?</th>\n",
       "      <th>Have you or anyone in your household taken any precautions for an earthquake (packed an earthquake survival kit, prepared an evacuation plan, etc.)?</th>\n",
       "      <th>How familiar are you with the San Andreas Fault line?</th>\n",
       "      <th>How familiar are you with the Yellowstone Supervolcano?</th>\n",
       "      <th>Age</th>\n",
       "      <th>What is your gender?</th>\n",
       "      <th>How much total combined money did all members of your HOUSEHOLD earn last year?</th>\n",
       "      <th>US Region</th>\n",
       "    </tr>\n",
       "    <tr>\n",
       "      <th>In general, how worried are you about earthquakes?</th>\n",
       "      <th></th>\n",
       "      <th></th>\n",
       "      <th></th>\n",
       "      <th></th>\n",
       "      <th></th>\n",
       "      <th></th>\n",
       "      <th></th>\n",
       "      <th></th>\n",
       "      <th></th>\n",
       "      <th></th>\n",
       "    </tr>\n",
       "  </thead>\n",
       "  <tbody>\n",
       "    <tr>\n",
       "      <th>Not at all worried</th>\n",
       "      <td>Not so worried</td>\n",
       "      <td>No</td>\n",
       "      <td>Yes, one or more minor ones</td>\n",
       "      <td>No</td>\n",
       "      <td>Somewhat familiar</td>\n",
       "      <td>Not so familiar</td>\n",
       "      <td>18 - 29</td>\n",
       "      <td>Male</td>\n",
       "      <td>Prefer not to answer</td>\n",
       "      <td>New England</td>\n",
       "    </tr>\n",
       "    <tr>\n",
       "      <th>Somewhat worried</th>\n",
       "      <td>Very worried</td>\n",
       "      <td>No</td>\n",
       "      <td>Yes, one or more minor ones</td>\n",
       "      <td>No</td>\n",
       "      <td>Not at all familiar</td>\n",
       "      <td>Not at all familiar</td>\n",
       "      <td>18 - 29</td>\n",
       "      <td>Male</td>\n",
       "      <td>$75,000 to $99,999</td>\n",
       "      <td>East North Central</td>\n",
       "    </tr>\n",
       "    <tr>\n",
       "      <th>Not so worried</th>\n",
       "      <td>Somewhat worried</td>\n",
       "      <td>No</td>\n",
       "      <td>Yes, one or more minor ones</td>\n",
       "      <td>No</td>\n",
       "      <td>Very familiar</td>\n",
       "      <td>Somewhat familiar</td>\n",
       "      <td>18 - 29</td>\n",
       "      <td>Male</td>\n",
       "      <td>$10,000 to $24,999</td>\n",
       "      <td>Pacific</td>\n",
       "    </tr>\n",
       "    <tr>\n",
       "      <th>Not so worried</th>\n",
       "      <td>Not so worried</td>\n",
       "      <td>No</td>\n",
       "      <td>Yes, one or more minor ones</td>\n",
       "      <td>No</td>\n",
       "      <td>Very familiar</td>\n",
       "      <td>Not so familiar</td>\n",
       "      <td>18 - 29</td>\n",
       "      <td>Male</td>\n",
       "      <td>$25,000 to $49,999</td>\n",
       "      <td>West South Central</td>\n",
       "    </tr>\n",
       "    <tr>\n",
       "      <th>Not so worried</th>\n",
       "      <td>Not so worried</td>\n",
       "      <td>Yes</td>\n",
       "      <td>Yes, one or more minor ones</td>\n",
       "      <td>No</td>\n",
       "      <td>Somewhat familiar</td>\n",
       "      <td>Extremely familiar</td>\n",
       "      <td>18 - 29</td>\n",
       "      <td>Male</td>\n",
       "      <td>$200,000 and up</td>\n",
       "      <td>Middle Atlantic</td>\n",
       "    </tr>\n",
       "    <tr>\n",
       "      <th>...</th>\n",
       "      <td>...</td>\n",
       "      <td>...</td>\n",
       "      <td>...</td>\n",
       "      <td>...</td>\n",
       "      <td>...</td>\n",
       "      <td>...</td>\n",
       "      <td>...</td>\n",
       "      <td>...</td>\n",
       "      <td>...</td>\n",
       "      <td>...</td>\n",
       "    </tr>\n",
       "    <tr>\n",
       "      <th>Not at all worried</th>\n",
       "      <td>Not at all worried</td>\n",
       "      <td>No</td>\n",
       "      <td>Yes, one or more minor ones</td>\n",
       "      <td>No</td>\n",
       "      <td>Very familiar</td>\n",
       "      <td>Not so familiar</td>\n",
       "      <td>60</td>\n",
       "      <td>Male</td>\n",
       "      <td>Prefer not to answer</td>\n",
       "      <td>Pacific</td>\n",
       "    </tr>\n",
       "    <tr>\n",
       "      <th>Not so worried</th>\n",
       "      <td>Somewhat worried</td>\n",
       "      <td>No</td>\n",
       "      <td>Yes, one or more major ones</td>\n",
       "      <td>Yes</td>\n",
       "      <td>Extremely familiar</td>\n",
       "      <td>Somewhat familiar</td>\n",
       "      <td>60</td>\n",
       "      <td>Female</td>\n",
       "      <td>$50,000 to $74,999</td>\n",
       "      <td>Pacific</td>\n",
       "    </tr>\n",
       "    <tr>\n",
       "      <th>Not so worried</th>\n",
       "      <td>Extremely worried</td>\n",
       "      <td>No</td>\n",
       "      <td>Yes, one or more minor ones</td>\n",
       "      <td>No</td>\n",
       "      <td>Somewhat familiar</td>\n",
       "      <td>Somewhat familiar</td>\n",
       "      <td>30 - 44</td>\n",
       "      <td>Female</td>\n",
       "      <td>Prefer not to answer</td>\n",
       "      <td>Middle Atlantic</td>\n",
       "    </tr>\n",
       "    <tr>\n",
       "      <th>Not at all worried</th>\n",
       "      <td>Not so worried</td>\n",
       "      <td>No</td>\n",
       "      <td>No</td>\n",
       "      <td>No</td>\n",
       "      <td>Somewhat familiar</td>\n",
       "      <td>Somewhat familiar</td>\n",
       "      <td>30 - 44</td>\n",
       "      <td>Female</td>\n",
       "      <td>$50,000 to $74,999</td>\n",
       "      <td>East North Central</td>\n",
       "    </tr>\n",
       "    <tr>\n",
       "      <th>Somewhat worried</th>\n",
       "      <td>Not so worried</td>\n",
       "      <td>No</td>\n",
       "      <td>Yes, one or more minor ones</td>\n",
       "      <td>No</td>\n",
       "      <td>NaN</td>\n",
       "      <td>NaN</td>\n",
       "      <td>NaN</td>\n",
       "      <td>NaN</td>\n",
       "      <td>NaN</td>\n",
       "      <td>NaN</td>\n",
       "    </tr>\n",
       "  </tbody>\n",
       "</table>\n",
       "<p>1013 rows × 10 columns</p>\n",
       "</div>"
      ],
      "text/plain": [
       "                                                   How worried are you about the Big One, a massive, catastrophic earthquake?  \\\n",
       "In general, how worried are you about earthquakes?                                                                              \n",
       "Not at all worried                                                                     Not so worried                           \n",
       "Somewhat worried                                                                         Very worried                           \n",
       "Not so worried                                                                       Somewhat worried                           \n",
       "Not so worried                                                                         Not so worried                           \n",
       "Not so worried                                                                         Not so worried                           \n",
       "...                                                                                               ...                           \n",
       "Not at all worried                                                                 Not at all worried                           \n",
       "Not so worried                                                                       Somewhat worried                           \n",
       "Not so worried                                                                      Extremely worried                           \n",
       "Not at all worried                                                                     Not so worried                           \n",
       "Somewhat worried                                                                       Not so worried                           \n",
       "\n",
       "                                                   Do you think the \"Big One\" will occur in your lifetime?  \\\n",
       "In general, how worried are you about earthquakes?                                                           \n",
       "Not at all worried                                                                                 No        \n",
       "Somewhat worried                                                                                   No        \n",
       "Not so worried                                                                                     No        \n",
       "Not so worried                                                                                     No        \n",
       "Not so worried                                                                                    Yes        \n",
       "...                                                                                               ...        \n",
       "Not at all worried                                                                                 No        \n",
       "Not so worried                                                                                     No        \n",
       "Not so worried                                                                                     No        \n",
       "Not at all worried                                                                                 No        \n",
       "Somewhat worried                                                                                   No        \n",
       "\n",
       "                                                   Have you ever experienced an earthquake?  \\\n",
       "In general, how worried are you about earthquakes?                                            \n",
       "Not at all worried                                              Yes, one or more minor ones   \n",
       "Somewhat worried                                                Yes, one or more minor ones   \n",
       "Not so worried                                                  Yes, one or more minor ones   \n",
       "Not so worried                                                  Yes, one or more minor ones   \n",
       "Not so worried                                                  Yes, one or more minor ones   \n",
       "...                                                                                     ...   \n",
       "Not at all worried                                              Yes, one or more minor ones   \n",
       "Not so worried                                                  Yes, one or more major ones   \n",
       "Not so worried                                                  Yes, one or more minor ones   \n",
       "Not at all worried                                                                       No   \n",
       "Somewhat worried                                                Yes, one or more minor ones   \n",
       "\n",
       "                                                   Have you or anyone in your household taken any precautions for an earthquake (packed an earthquake survival kit, prepared an evacuation plan, etc.)?  \\\n",
       "In general, how worried are you about earthquakes?                                                                                                                                                        \n",
       "Not at all worried                                                                                 No                                                                                                     \n",
       "Somewhat worried                                                                                   No                                                                                                     \n",
       "Not so worried                                                                                     No                                                                                                     \n",
       "Not so worried                                                                                     No                                                                                                     \n",
       "Not so worried                                                                                     No                                                                                                     \n",
       "...                                                                                               ...                                                                                                     \n",
       "Not at all worried                                                                                 No                                                                                                     \n",
       "Not so worried                                                                                    Yes                                                                                                     \n",
       "Not so worried                                                                                     No                                                                                                     \n",
       "Not at all worried                                                                                 No                                                                                                     \n",
       "Somewhat worried                                                                                   No                                                                                                     \n",
       "\n",
       "                                                   How familiar are you with the San Andreas Fault line?  \\\n",
       "In general, how worried are you about earthquakes?                                                         \n",
       "Not at all worried                                                                  Somewhat familiar      \n",
       "Somewhat worried                                                                  Not at all familiar      \n",
       "Not so worried                                                                          Very familiar      \n",
       "Not so worried                                                                          Very familiar      \n",
       "Not so worried                                                                      Somewhat familiar      \n",
       "...                                                                                               ...      \n",
       "Not at all worried                                                                      Very familiar      \n",
       "Not so worried                                                                     Extremely familiar      \n",
       "Not so worried                                                                      Somewhat familiar      \n",
       "Not at all worried                                                                  Somewhat familiar      \n",
       "Somewhat worried                                                                                  NaN      \n",
       "\n",
       "                                                   How familiar are you with the Yellowstone Supervolcano?  \\\n",
       "In general, how worried are you about earthquakes?                                                           \n",
       "Not at all worried                                                                    Not so familiar        \n",
       "Somewhat worried                                                                  Not at all familiar        \n",
       "Not so worried                                                                      Somewhat familiar        \n",
       "Not so worried                                                                        Not so familiar        \n",
       "Not so worried                                                                     Extremely familiar        \n",
       "...                                                                                               ...        \n",
       "Not at all worried                                                                    Not so familiar        \n",
       "Not so worried                                                                      Somewhat familiar        \n",
       "Not so worried                                                                      Somewhat familiar        \n",
       "Not at all worried                                                                  Somewhat familiar        \n",
       "Somewhat worried                                                                                  NaN        \n",
       "\n",
       "                                                        Age  \\\n",
       "In general, how worried are you about earthquakes?            \n",
       "Not at all worried                                  18 - 29   \n",
       "Somewhat worried                                    18 - 29   \n",
       "Not so worried                                      18 - 29   \n",
       "Not so worried                                      18 - 29   \n",
       "Not so worried                                      18 - 29   \n",
       "...                                                     ...   \n",
       "Not at all worried                                       60   \n",
       "Not so worried                                           60   \n",
       "Not so worried                                      30 - 44   \n",
       "Not at all worried                                  30 - 44   \n",
       "Somewhat worried                                        NaN   \n",
       "\n",
       "                                                   What is your gender?  \\\n",
       "In general, how worried are you about earthquakes?                        \n",
       "Not at all worried                                                 Male   \n",
       "Somewhat worried                                                   Male   \n",
       "Not so worried                                                     Male   \n",
       "Not so worried                                                     Male   \n",
       "Not so worried                                                     Male   \n",
       "...                                                                 ...   \n",
       "Not at all worried                                                 Male   \n",
       "Not so worried                                                   Female   \n",
       "Not so worried                                                   Female   \n",
       "Not at all worried                                               Female   \n",
       "Somewhat worried                                                    NaN   \n",
       "\n",
       "                                                   How much total combined money did all members of your HOUSEHOLD earn last year?  \\\n",
       "In general, how worried are you about earthquakes?                                                                                   \n",
       "Not at all worried                                                               Prefer not to answer                                \n",
       "Somewhat worried                                                                   $75,000 to $99,999                                \n",
       "Not so worried                                                                     $10,000 to $24,999                                \n",
       "Not so worried                                                                     $25,000 to $49,999                                \n",
       "Not so worried                                                                        $200,000 and up                                \n",
       "...                                                                                               ...                                \n",
       "Not at all worried                                                               Prefer not to answer                                \n",
       "Not so worried                                                                     $50,000 to $74,999                                \n",
       "Not so worried                                                                   Prefer not to answer                                \n",
       "Not at all worried                                                                 $50,000 to $74,999                                \n",
       "Somewhat worried                                                                                  NaN                                \n",
       "\n",
       "                                                             US Region  \n",
       "In general, how worried are you about earthquakes?                      \n",
       "Not at all worried                                         New England  \n",
       "Somewhat worried                                    East North Central  \n",
       "Not so worried                                                 Pacific  \n",
       "Not so worried                                      West South Central  \n",
       "Not so worried                                         Middle Atlantic  \n",
       "...                                                                ...  \n",
       "Not at all worried                                             Pacific  \n",
       "Not so worried                                                 Pacific  \n",
       "Not so worried                                         Middle Atlantic  \n",
       "Not at all worried                                  East North Central  \n",
       "Somewhat worried                                                   NaN  \n",
       "\n",
       "[1013 rows x 10 columns]"
      ]
     },
     "execution_count": 3,
     "metadata": {},
     "output_type": "execute_result"
    }
   ],
   "source": [
    "data"
   ]
  },
  {
   "cell_type": "code",
   "execution_count": 4,
   "id": "f7e40346-59bd-495c-8eee-44edb4e1fca6",
   "metadata": {},
   "outputs": [
    {
     "data": {
      "text/plain": [
       "How worried are you about the Big One, a massive, catastrophic earthquake?                                                                               0\n",
       "Do you think the \"Big One\" will occur in your lifetime?                                                                                                  0\n",
       "Have you ever experienced an earthquake?                                                                                                                 7\n",
       "Have you or anyone in your household taken any precautions for an earthquake (packed an earthquake survival kit, prepared an evacuation plan, etc.)?     7\n",
       "How familiar are you with the San Andreas Fault line?                                                                                                   12\n",
       "How familiar are you with the Yellowstone Supervolcano?                                                                                                 12\n",
       "Age                                                                                                                                                     12\n",
       "What is your gender?                                                                                                                                    12\n",
       "How much total combined money did all members of your HOUSEHOLD earn last year?                                                                         12\n",
       "US Region                                                                                                                                               35\n",
       "dtype: int64"
      ]
     },
     "execution_count": 4,
     "metadata": {},
     "output_type": "execute_result"
    }
   ],
   "source": [
    "data.isnull().sum()"
   ]
  },
  {
   "cell_type": "markdown",
   "id": "82fb32fa-ad26-405c-ae19-7cdf3fae6436",
   "metadata": {},
   "source": [
    "Let's drop null rows"
   ]
  },
  {
   "cell_type": "code",
   "execution_count": 5,
   "id": "b3674da8-da49-48c7-93da-17c62778796e",
   "metadata": {},
   "outputs": [
    {
     "data": {
      "text/plain": [
       "How worried are you about the Big One, a massive, catastrophic earthquake?                                                                              0\n",
       "Do you think the \"Big One\" will occur in your lifetime?                                                                                                 0\n",
       "Have you ever experienced an earthquake?                                                                                                                0\n",
       "Have you or anyone in your household taken any precautions for an earthquake (packed an earthquake survival kit, prepared an evacuation plan, etc.)?    0\n",
       "How familiar are you with the San Andreas Fault line?                                                                                                   0\n",
       "How familiar are you with the Yellowstone Supervolcano?                                                                                                 0\n",
       "Age                                                                                                                                                     0\n",
       "What is your gender?                                                                                                                                    0\n",
       "How much total combined money did all members of your HOUSEHOLD earn last year?                                                                         0\n",
       "US Region                                                                                                                                               0\n",
       "dtype: int64"
      ]
     },
     "execution_count": 5,
     "metadata": {},
     "output_type": "execute_result"
    }
   ],
   "source": [
    "#Cleaning Data\n",
    "data.dropna(inplace = True)\n",
    "data.isnull().sum()"
   ]
  },
  {
   "cell_type": "markdown",
   "id": "511b0781-0296-4ad8-8055-e823278e2c1c",
   "metadata": {},
   "source": [
    "Now we need to encode every column. First we need to check if there is a scale order to the answer."
   ]
  },
  {
   "cell_type": "code",
   "execution_count": 6,
   "id": "e6a34652-8e09-47c4-ac5b-8ab5b25a6d63",
   "metadata": {},
   "outputs": [
    {
     "name": "stdout",
     "output_type": "stream",
     "text": [
      "['Not so worried' 'Very worried' 'Somewhat worried' 'Not at all worried'\n",
      " 'Extremely worried']\n",
      "['No' 'Yes']\n",
      "['Yes, one or more minor ones' 'No' 'Yes, one or more major ones']\n",
      "['No' 'Yes']\n",
      "['Somewhat familiar' 'Not at all familiar' 'Very familiar'\n",
      " 'Not so familiar' 'Extremely familiar']\n",
      "['Not so familiar' 'Not at all familiar' 'Somewhat familiar'\n",
      " 'Extremely familiar' 'Very familiar']\n",
      "['18 - 29' '30 - 44' '45 - 59' '60']\n",
      "['Male' 'Female']\n",
      "['Prefer not to answer' '$75,000 to $99,999' '$10,000 to $24,999'\n",
      " '$25,000 to $49,999' '$200,000 and up' '$50,000 to $74,999'\n",
      " '$0 to $9,999' '$100,000 to $124,999' '$175,000 to $199,999'\n",
      " '$125,000 to $149,999' '$150,000 to $174,999']\n",
      "['New England' 'East North Central' 'Pacific' 'West South Central'\n",
      " 'Middle Atlantic' 'South Atlantic' 'West North Central'\n",
      " 'East South Central' 'Mountain']\n"
     ]
    }
   ],
   "source": [
    "for col in data.columns:\n",
    "    print( data[col].unique())"
   ]
  },
  {
   "cell_type": "code",
   "execution_count": 7,
   "id": "ec4f8ceb-2f41-4670-b55a-38da72042ea1",
   "metadata": {},
   "outputs": [
    {
     "data": {
      "text/html": [
       "<div>\n",
       "<style scoped>\n",
       "    .dataframe tbody tr th:only-of-type {\n",
       "        vertical-align: middle;\n",
       "    }\n",
       "\n",
       "    .dataframe tbody tr th {\n",
       "        vertical-align: top;\n",
       "    }\n",
       "\n",
       "    .dataframe thead th {\n",
       "        text-align: right;\n",
       "    }\n",
       "</style>\n",
       "<table border=\"1\" class=\"dataframe\">\n",
       "  <thead>\n",
       "    <tr style=\"text-align: right;\">\n",
       "      <th></th>\n",
       "      <th>big one</th>\n",
       "      <th>big one occurence</th>\n",
       "      <th>experienced hq</th>\n",
       "      <th>precautions</th>\n",
       "      <th>sa familiarity</th>\n",
       "      <th>ys familiarity</th>\n",
       "      <th>age</th>\n",
       "      <th>gender</th>\n",
       "      <th>income</th>\n",
       "      <th>region</th>\n",
       "    </tr>\n",
       "    <tr>\n",
       "      <th>worry scale</th>\n",
       "      <th></th>\n",
       "      <th></th>\n",
       "      <th></th>\n",
       "      <th></th>\n",
       "      <th></th>\n",
       "      <th></th>\n",
       "      <th></th>\n",
       "      <th></th>\n",
       "      <th></th>\n",
       "      <th></th>\n",
       "    </tr>\n",
       "  </thead>\n",
       "  <tbody>\n",
       "    <tr>\n",
       "      <th>0.0</th>\n",
       "      <td>1.0</td>\n",
       "      <td>0.0</td>\n",
       "      <td>2.0</td>\n",
       "      <td>0.0</td>\n",
       "      <td>2.0</td>\n",
       "      <td>1.0</td>\n",
       "      <td>0.0</td>\n",
       "      <td>1.0</td>\n",
       "      <td>10.0</td>\n",
       "      <td>4.0</td>\n",
       "    </tr>\n",
       "    <tr>\n",
       "      <th>2.0</th>\n",
       "      <td>3.0</td>\n",
       "      <td>0.0</td>\n",
       "      <td>2.0</td>\n",
       "      <td>0.0</td>\n",
       "      <td>0.0</td>\n",
       "      <td>0.0</td>\n",
       "      <td>0.0</td>\n",
       "      <td>1.0</td>\n",
       "      <td>9.0</td>\n",
       "      <td>0.0</td>\n",
       "    </tr>\n",
       "    <tr>\n",
       "      <th>1.0</th>\n",
       "      <td>2.0</td>\n",
       "      <td>0.0</td>\n",
       "      <td>2.0</td>\n",
       "      <td>0.0</td>\n",
       "      <td>3.0</td>\n",
       "      <td>2.0</td>\n",
       "      <td>0.0</td>\n",
       "      <td>1.0</td>\n",
       "      <td>1.0</td>\n",
       "      <td>5.0</td>\n",
       "    </tr>\n",
       "    <tr>\n",
       "      <th>1.0</th>\n",
       "      <td>1.0</td>\n",
       "      <td>0.0</td>\n",
       "      <td>2.0</td>\n",
       "      <td>0.0</td>\n",
       "      <td>3.0</td>\n",
       "      <td>1.0</td>\n",
       "      <td>0.0</td>\n",
       "      <td>1.0</td>\n",
       "      <td>7.0</td>\n",
       "      <td>8.0</td>\n",
       "    </tr>\n",
       "    <tr>\n",
       "      <th>1.0</th>\n",
       "      <td>1.0</td>\n",
       "      <td>1.0</td>\n",
       "      <td>2.0</td>\n",
       "      <td>0.0</td>\n",
       "      <td>2.0</td>\n",
       "      <td>4.0</td>\n",
       "      <td>0.0</td>\n",
       "      <td>1.0</td>\n",
       "      <td>6.0</td>\n",
       "      <td>2.0</td>\n",
       "    </tr>\n",
       "    <tr>\n",
       "      <th>...</th>\n",
       "      <td>...</td>\n",
       "      <td>...</td>\n",
       "      <td>...</td>\n",
       "      <td>...</td>\n",
       "      <td>...</td>\n",
       "      <td>...</td>\n",
       "      <td>...</td>\n",
       "      <td>...</td>\n",
       "      <td>...</td>\n",
       "      <td>...</td>\n",
       "    </tr>\n",
       "    <tr>\n",
       "      <th>0.0</th>\n",
       "      <td>0.0</td>\n",
       "      <td>0.0</td>\n",
       "      <td>0.0</td>\n",
       "      <td>0.0</td>\n",
       "      <td>2.0</td>\n",
       "      <td>2.0</td>\n",
       "      <td>3.0</td>\n",
       "      <td>0.0</td>\n",
       "      <td>10.0</td>\n",
       "      <td>4.0</td>\n",
       "    </tr>\n",
       "    <tr>\n",
       "      <th>0.0</th>\n",
       "      <td>0.0</td>\n",
       "      <td>0.0</td>\n",
       "      <td>2.0</td>\n",
       "      <td>0.0</td>\n",
       "      <td>3.0</td>\n",
       "      <td>1.0</td>\n",
       "      <td>3.0</td>\n",
       "      <td>1.0</td>\n",
       "      <td>10.0</td>\n",
       "      <td>5.0</td>\n",
       "    </tr>\n",
       "    <tr>\n",
       "      <th>1.0</th>\n",
       "      <td>2.0</td>\n",
       "      <td>0.0</td>\n",
       "      <td>1.0</td>\n",
       "      <td>1.0</td>\n",
       "      <td>4.0</td>\n",
       "      <td>2.0</td>\n",
       "      <td>3.0</td>\n",
       "      <td>0.0</td>\n",
       "      <td>8.0</td>\n",
       "      <td>5.0</td>\n",
       "    </tr>\n",
       "    <tr>\n",
       "      <th>1.0</th>\n",
       "      <td>4.0</td>\n",
       "      <td>0.0</td>\n",
       "      <td>2.0</td>\n",
       "      <td>0.0</td>\n",
       "      <td>2.0</td>\n",
       "      <td>2.0</td>\n",
       "      <td>1.0</td>\n",
       "      <td>0.0</td>\n",
       "      <td>10.0</td>\n",
       "      <td>2.0</td>\n",
       "    </tr>\n",
       "    <tr>\n",
       "      <th>0.0</th>\n",
       "      <td>1.0</td>\n",
       "      <td>0.0</td>\n",
       "      <td>0.0</td>\n",
       "      <td>0.0</td>\n",
       "      <td>2.0</td>\n",
       "      <td>2.0</td>\n",
       "      <td>1.0</td>\n",
       "      <td>0.0</td>\n",
       "      <td>8.0</td>\n",
       "      <td>0.0</td>\n",
       "    </tr>\n",
       "  </tbody>\n",
       "</table>\n",
       "<p>978 rows × 10 columns</p>\n",
       "</div>"
      ],
      "text/plain": [
       "             big one big one occurence experienced hq precautions  \\\n",
       "worry scale                                                         \n",
       "0.0              1.0               0.0            2.0         0.0   \n",
       "2.0              3.0               0.0            2.0         0.0   \n",
       "1.0              2.0               0.0            2.0         0.0   \n",
       "1.0              1.0               0.0            2.0         0.0   \n",
       "1.0              1.0               1.0            2.0         0.0   \n",
       "...              ...               ...            ...         ...   \n",
       "0.0              0.0               0.0            0.0         0.0   \n",
       "0.0              0.0               0.0            2.0         0.0   \n",
       "1.0              2.0               0.0            1.0         1.0   \n",
       "1.0              4.0               0.0            2.0         0.0   \n",
       "0.0              1.0               0.0            0.0         0.0   \n",
       "\n",
       "             sa familiarity  ys familiarity  age gender income region  \n",
       "worry scale                                                            \n",
       "0.0                     2.0             1.0  0.0    1.0   10.0    4.0  \n",
       "2.0                     0.0             0.0  0.0    1.0    9.0    0.0  \n",
       "1.0                     3.0             2.0  0.0    1.0    1.0    5.0  \n",
       "1.0                     3.0             1.0  0.0    1.0    7.0    8.0  \n",
       "1.0                     2.0             4.0  0.0    1.0    6.0    2.0  \n",
       "...                     ...             ...  ...    ...    ...    ...  \n",
       "0.0                     2.0             2.0  3.0    0.0   10.0    4.0  \n",
       "0.0                     3.0             1.0  3.0    1.0   10.0    5.0  \n",
       "1.0                     4.0             2.0  3.0    0.0    8.0    5.0  \n",
       "1.0                     2.0             2.0  1.0    0.0   10.0    2.0  \n",
       "0.0                     2.0             2.0  1.0    0.0    8.0    0.0  \n",
       "\n",
       "[978 rows x 10 columns]"
      ]
     },
     "execution_count": 7,
     "metadata": {},
     "output_type": "execute_result"
    }
   ],
   "source": [
    "data_encoded = data\n",
    "data_encoder = OrdinalEncoder()\n",
    "data_encoded.iloc[:,[1,2,3,6,7,8,9]] = data_encoder.fit_transform(data.iloc[:,[1,2,3,6,7,8,9]])\n",
    "\n",
    "#Ordered index for some columnns to maintain a logical scale\n",
    "map1 = {'Not at all worried':0., 'Not so worried':1., 'Somewhat worried':2., 'Very worried':3., 'Extremely worried':4.}\n",
    "map2 = {'Not at all familiar':0., 'Not so familiar':1., 'Somewhat familiar':2., 'Very familiar':3., 'Extremely familiar':4.}\n",
    "\n",
    "data_encoded.iloc[:,0] = data.iloc[:,0].map(map1)\n",
    "data_encoded.iloc[:,4] = data.iloc[:,4].map(map2)\n",
    "data_encoded.iloc[:,5] = data.iloc[:,5].map(map2)\n",
    "\n",
    "data_encoded.index = data_encoded.index.map(map1)\n",
    "data_encoded.columns = ['big one', 'big one occurence','experienced hq', 'precautions', 'sa familiarity', 'ys familiarity', 'age', 'gender', 'income', 'region']\n",
    "dRegularizedDenseencoded.index.name = 'worry scale'\n",
    "data_encoded"
   ]
  },
  {
   "cell_type": "code",
   "execution_count": 20,
   "id": "b6e31b3b-5d1f-49f3-a1e6-cc82800f07fb",
   "metadata": {
    "tags": []
   },
   "outputs": [
    {
     "data": {
      "text/plain": [
       "<AxesSubplot:>"
      ]
     },
     "execution_count": 20,
     "metadata": {},
     "output_type": "execute_result"
    },
    {
     "data": {
      "image/png": "[encoded data removed]",
      "text/plain": [
       "<Figure size 1080x720 with 2 Axes>"
      ]
     },
     "metadata": {
      "needs_background": "light"
     },
     "output_type": "display_data"
    }
   ],
   "source": [
    "corr = data_encoded.corr()\n",
    "sns.heatmap(corr, annot = True)"
   ]
  },
  {
   "cell_type": "markdown",
   "id": "5dacdf6c-33c3-4c28-bb12-73cbc2b86f2a",
   "metadata": {},
   "source": [
    "Let's split data and train the algorithms, considerations will be taken at the end of training and predictions of every model.\n",
    "<br>\n",
    "Let's train a beseline models"
   ]
  },
  {
   "cell_type": "code",
   "execution_count": 9,
   "id": "dcc81191-ef7e-4888-aaf3-cab23ca007c9",
   "metadata": {},
   "outputs": [
    {
     "name": "stdout",
     "output_type": "stream",
     "text": [
      "Random forest: train score 0.9959072305593452, test score 0.6775510204081633\n",
      "Gradient boosting: train score 0.8799454297407913, test score 0.6857142857142857\n",
      "SVC: train score 0.713506139154161, test score 0.6653061224489796\n"
     ]
    }
   ],
   "source": [
    "xtrain, xtest, ytrain, ytest = train_test_split(data_encoded.values, data_encoded.index)\n",
    "scaler = StandardScaler()\n",
    "\n",
    "rf = RandomForestClassifier()\n",
    "gb = GradientBoostingClassifier()\n",
    "svc = SVC()\n",
    "\n",
    "rf.fit(xtrain, ytrain)\n",
    "gb.fit(xtrain, ytrain)\n",
    "svc.fit(xtrain, ytrain)\n",
    "\n",
    "print(f'Random forest: train score {rf.score(xtrain,ytrain)}, test score {rf.score(xtest, ytest)}')\n",
    "print(f'Gradient boosting: train score {gb.score(xtrain,ytrain)}, test score {gb.score(xtest, ytest)}')\n",
    "print(f'SVC: train score {svc.score(xtrain,ytrain)}, test score {svc.score(xtest, ytest)}')"
   ]
  },
  {
   "cell_type": "markdown",
   "id": "a7396bc5-4efb-47fe-880b-437ea7988ed2",
   "metadata": {},
   "source": [
    "Tree-based models are overfitting, svc performs better even without scaling.\n",
    "Let's tune the hyperparameters and see if there is any change"
   ]
  },
  {
   "cell_type": "code",
   "execution_count": 10,
   "id": "f3b4335a-f275-463b-8870-2c478e2fcbce",
   "metadata": {
    "slideshow": {
     "slide_type": "subslide"
    },
    "tags": []
   },
   "outputs": [
    {
     "name": "stdout",
     "output_type": "stream",
     "text": [
      "0.8485675306957708 0.6957692666107539 0.6816326530612244\n",
      "{'max_depth': 7, 'n_estimators': 110}\n"
     ]
    },
    {
     "data": {
      "image/png": "[encoded data removed]",
      "text/plain": [
       "<Figure size 1080x720 with 2 Axes>"
      ]
     },
     "metadata": {
      "needs_background": "light"
     },
     "output_type": "display_data"
    }
   ],
   "source": [
    "#Random forest Classifier\n",
    "parameters = {'max_depth':[d for d in range(3,9)], 'n_estimators':[i*10 for i in range(7,13)]}\n",
    "\n",
    "rf = RandomForestClassifier()\n",
    "grid = GridSearchCV(rf, parameters) \n",
    "grid.fit(xtrain, ytrain)\n",
    "bestforest = grid.best_estimator_\n",
    "\n",
    "hmRF = pd.pivot_table(pd.DataFrame(grid.cv_results_),\n",
    "\t\t\t\t\t\t\t\t\tvalues='mean_test_score',\n",
    "\t\t\t\t\t\t\t\t\tindex='param_max_depth',\n",
    "\t\t\t\t\t\t\t\t\tcolumns='param_n_estimators')\n",
    "\n",
    "sns.heatmap(hmRF, cmap = 'Spectral', annot = True)                                        \n",
    "print(bestforest.score(xtrain, ytrain), grid.best_score_, bestforest.score(xtest, ytest))\n",
    "print(grid.best_params_)"
   ]
  },
  {
   "cell_type": "code",
   "execution_count": 11,
   "id": "4b444dd2-0283-41c3-beb7-a2e60913de81",
   "metadata": {},
   "outputs": [
    {
     "data": {
      "text/plain": [
       "<AxesSubplot:>"
      ]
     },
     "execution_count": 11,
     "metadata": {},
     "output_type": "execute_result"
    },
    {
     "data": {
      "image/png": "[encoded data removed]",
      "text/plain": [
       "<Figure size 1080x720 with 2 Axes>"
      ]
     },
     "metadata": {
      "needs_background": "light"
     },
     "output_type": "display_data"
    }
   ],
   "source": [
    "cm_rf = confusion_matrix(ytest, grid.predict(xtest))\n",
    "sns.heatmap(cm_rf, annot=True)"
   ]
  },
  {
   "cell_type": "code",
   "execution_count": 12,
   "id": "d90c5038-d6f2-4910-9ca9-0b96ceaa60cd",
   "metadata": {
    "tags": []
   },
   "outputs": [
    {
     "name": "stdout",
     "output_type": "stream",
     "text": [
      "0.7871759890859482 0.723091976516634 0.6857142857142857\n",
      "{'learning_rate': 0.1, 'max_depth': 2}\n"
     ]
    },
    {
     "data": {
      "image/png": "[encoded data removed]",
      "text/plain": [
       "<Figure size 1080x720 with 2 Axes>"
      ]
     },
     "metadata": {
      "needs_background": "light"
     },
     "output_type": "display_data"
    }
   ],
   "source": [
    "#Gradient Boosting Classifier\n",
    "params = {'learning_rate':[0.05, 0.1, 0.2], 'max_depth':[1,2,3]}\n",
    "\n",
    "gb = GradientBoostingClassifier(max_features = 'sqrt')\n",
    "grid = GridSearchCV(gb, params)\n",
    "grid.fit(xtrain, ytrain)\n",
    "best = grid.best_estimator_\n",
    "    \n",
    "#Plot griglia di parametri\n",
    "hmGB = pd.pivot_table(pd.DataFrame(grid.cv_results_),\n",
    "\t\t\t\t\t\t\t\t\tvalues='mean_test_score',\n",
    "\t\t\t\t\t\t\t\t\tindex='param_max_depth',\n",
    "\t\t\t\t\t\t\t\t\tcolumns='param_learning_rate')\n",
    "sns.heatmap(hmGB, cmap = 'Spectral', annot = True)\n",
    "\n",
    "print(best.score(xtrain, ytrain), grid.best_score_, best.score(xtest, ytest))\n",
    "print(grid.best_params_)"
   ]
  },
  {
   "cell_type": "code",
   "execution_count": 13,
   "id": "862288f4-b9a3-45a7-a28a-4fc83be4fafe",
   "metadata": {},
   "outputs": [
    {
     "data": {
      "text/plain": [
       "<AxesSubplot:>"
      ]
     },
     "execution_count": 13,
     "metadata": {},
     "output_type": "execute_result"
    },
    {
     "data": {
      "image/png": "[encoded data removed]",
      "text/plain": [
       "<Figure size 1080x720 with 2 Axes>"
      ]
     },
     "metadata": {
      "needs_background": "light"
     },
     "output_type": "display_data"
    }
   ],
   "source": [
    "cm_gb = confusion_matrix(ytest, grid.predict(xtest))\n",
    "sns.heatmap(cm_gb, annot=True)"
   ]
  },
  {
   "cell_type": "code",
   "execution_count": 14,
   "id": "b06114ff-8b45-4783-ba51-d177e195f9d6",
   "metadata": {},
   "outputs": [
    {
     "name": "stdout",
     "output_type": "stream",
     "text": [
      "svm best parameters {'C': 2, 'kernel': 'linear'}\n",
      "svm: best train score 0.722| mean validation score 0.708| test score 0.718\n"
     ]
    },
    {
     "data": {
      "image/png": "[encoded data removed]",
      "text/plain": [
       "<Figure size 1080x720 with 2 Axes>"
      ]
     },
     "metadata": {
      "needs_background": "light"
     },
     "output_type": "display_data"
    }
   ],
   "source": [
    "scaler = MinMaxScaler()\n",
    "xtrain_scaled = scaler.fit_transform(xtrain)\n",
    "xtest_scaled = scaler.transform(xtest)\n",
    "\n",
    "#SVC\n",
    "svm_params = {'C': [0.1, 0.5, 0.7,  1, 2, 5, 10],\n",
    "              'kernel':['linear', 'poly', 'rbf', 'sigmoid'] }\n",
    "               \n",
    "svm_grid = GridSearchCV(SVC(), svm_params)\n",
    "svm_grid.fit(xtrain_scaled, ytrain)\n",
    "    \n",
    "#Plot griglia di parametri\n",
    "hmsvm = pd.pivot_table(pd.DataFrame(svm_grid.cv_results_),\n",
    "\t\t\t\t\t\t\t\t\tvalues='mean_test_score',\n",
    "\t\t\t\t\t\t\t\t\tindex='param_C',\n",
    "\t\t\t\t\t\t\t\t\tcolumns='param_kernel')\n",
    "sns.heatmap(hmsvm, cmap = 'Spectral', annot = True)\n",
    "\n",
    "print(f'svm best parameters {svm_grid.best_params_}')\n",
    "print(f'svm: best train score {np.round(svm_grid.score(xtrain_scaled, ytrain), 3)}| mean validation score {np.round(svm_grid.best_score_, 3)}| test score {np.round(svm_grid.score(xtest_scaled, ytest), 3)}')"
   ]
  },
  {
   "cell_type": "code",
   "execution_count": 15,
   "id": "81aa9df3-c26a-4740-9e16-0fe09308e5ea",
   "metadata": {},
   "outputs": [
    {
     "data": {
      "text/plain": [
       "<AxesSubplot:>"
      ]
     },
     "execution_count": 15,
     "metadata": {},
     "output_type": "execute_result"
    },
    {
     "data": {
      "image/png": "[encoded data removed]",
      "text/plain": [
       "<Figure size 1080x720 with 2 Axes>"
      ]
     },
     "metadata": {
      "needs_background": "light"
     },
     "output_type": "display_data"
    }
   ],
   "source": [
    "cm_svm = confusion_matrix(ytest, svm_grid.predict(xtest))\n",
    "sns.heatmap(cm_svm, annot=True)"
   ]
  },
  {
   "cell_type": "code",
   "execution_count": 16,
   "id": "d216f1a5-83c9-4090-a7bd-08db429941f6",
   "metadata": {
    "tags": []
   },
   "outputs": [
    {
     "name": "stdout",
     "output_type": "stream",
     "text": [
      "WARNING:tensorflow:Keras is training/fitting/evaluating on array-like data. Keras may not be optimized for this format, so if your input data format is supported by TensorFlow I/O (https://github.com/tensorflow/io) we recommend using that to load a Dataset instead.\n",
      "WARNING:tensorflow:Keras is training/fitting/evaluating on array-like data. Keras may not be optimized for this format, so if your input data format is supported by TensorFlow I/O (https://github.com/tensorflow/io) we recommend using that to load a Dataset instead.\n",
      "WARNING:tensorflow:Keras is training/fitting/evaluating on array-like data. Keras may not be optimized for this format, so if your input data format is supported by TensorFlow I/O (https://github.com/tensorflow/io) we recommend using that to load a Dataset instead.\n",
      "WARNING:tensorflow:Keras is training/fitting/evaluating on array-like data. Keras may not be optimized for this format, so if your input data format is supported by TensorFlow I/O (https://github.com/tensorflow/io) we recommend using that to load a Dataset instead.\n",
      "WARNING:tensorflow:Keras is training/fitting/evaluating on array-like data. Keras may not be optimized for this format, so if your input data format is supported by TensorFlow I/O (https://github.com/tensorflow/io) we recommend using that to load a Dataset instead.\n",
      "WARNING:tensorflow:Keras is training/fitting/evaluating on array-like data. Keras may not be optimized for this format, so if your input data format is supported by TensorFlow I/O (https://github.com/tensorflow/io) we recommend using that to load a Dataset instead.\n",
      "WARNING:tensorflow:Keras is training/fitting/evaluating on array-like data. Keras may not be optimized for this format, so if your input data format is supported by TensorFlow I/O (https://github.com/tensorflow/io) we recommend using that to load a Dataset instead.\n",
      "8/8 [==============================] - 0s 5ms/step - loss: 1.1140 - accuracy: 0.6327\n"
     ]
    },
    {
     "data": {
      "text/html": [
       "<div>\n",
       "<style scoped>\n",
       "    .dataframe tbody tr th:only-of-type {\n",
       "        vertical-align: middle;\n",
       "    }\n",
       "\n",
       "    .dataframe tbody tr th {\n",
       "        vertical-align: top;\n",
       "    }\n",
       "\n",
       "    .dataframe thead th {\n",
       "        text-align: right;\n",
       "    }\n",
       "</style>\n",
       "<table border=\"1\" class=\"dataframe\">\n",
       "  <thead>\n",
       "    <tr style=\"text-align: right;\">\n",
       "      <th></th>\n",
       "      <th>mean_train_score</th>\n",
       "      <th>mean_valid_score</th>\n",
       "      <th>test_score</th>\n",
       "    </tr>\n",
       "  </thead>\n",
       "  <tbody>\n",
       "    <tr>\n",
       "      <th>0</th>\n",
       "      <td>0.681462</td>\n",
       "      <td>0.693041</td>\n",
       "      <td>0.632653</td>\n",
       "    </tr>\n",
       "  </tbody>\n",
       "</table>\n",
       "</div>"
      ],
      "text/plain": [
       "   mean_train_score  mean_valid_score  test_score\n",
       "0          0.681462          0.693041    0.632653"
      ]
     },
     "execution_count": 16,
     "metadata": {},
     "output_type": "execute_result"
    }
   ],
   "source": [
    "#Neural Network\n",
    "RegularizedDense = partial(keras.layers.Dense,\n",
    "                           activation=\"elu\",\n",
    "                           #kernel_initializer=\"he_normal\",\n",
    "                           kernel_regularizer=keras.regularizers.l2(0.015)\n",
    "                          )\n",
    "\n",
    "callback = keras.callbacks.EarlyStopping(monitor='val_accuracy', patience=10)\n",
    "kf = StratifiedKFold(n_splits = 3)\n",
    "tra, val = [], []\n",
    "\n",
    "for train, valid in kf.split(xtrain, ytrain):\n",
    "#Scaling data\n",
    "    xtrain_scaled = scaler.fit_transform(xtrain[train])\n",
    "    xvalid_scaled = scaler.transform(xtrain[valid])\n",
    "                \n",
    "    #Neural Network\n",
    "    neural = keras.models.Sequential([\n",
    "        keras.layers.InputLayer(input_shape = data_encoded.shape[1]),\n",
    "        RegularizedDense(200),\n",
    "        RegularizedDense(300),\n",
    "        RegularizedDense(150),\n",
    "        RegularizedDense(50),\n",
    "        keras.layers.Dense(len(np.unique(data_encoded.index)), activation = 'softmax')])\n",
    "\n",
    "    neural.compile( loss = 'sparse_categorical_crossentropy', optimizer = 'Nadam', metrics = ['accuracy'])\n",
    "    history = neural.fit(xtrain_scaled, ytrain[train],\n",
    "                        validation_data = (xvalid_scaled, ytrain[valid]),\n",
    "                        epochs = 70,\n",
    "                        callbacks = [callback], verbose = 0)\n",
    "    \n",
    "    tra.append(max(list(history.history['accuracy'])))\n",
    "    val.append(max(list(history.history['val_accuracy'])))\n",
    "\n",
    "score = pd.DataFrame({'mean_train_score':np.mean(tra), 'mean_valid_score':np.mean(val)}, [0])\n",
    "\n",
    "xtest_scaled = scaler.transform(xtest)\n",
    "score['test_score'] = neural.evaluate(xtest_scaled, ytest)[1]\n",
    "score"
   ]
  },
  {
   "cell_type": "code",
   "execution_count": 17,
   "id": "3ee23fb0-a759-4358-865b-619daba5f340",
   "metadata": {},
   "outputs": [
    {
     "name": "stdout",
     "output_type": "stream",
     "text": [
      "8/8 [==============================] - 0s 5ms/step\n"
     ]
    },
    {
     "data": {
      "text/plain": [
       "Text(-0.999760000000002, 0.5, 'Predicted')"
      ]
     },
     "execution_count": 17,
     "metadata": {},
     "output_type": "execute_result"
    },
    {
     "data": {
      "image/png": "[encoded data removed]",
      "text/plain": [
       "<Figure size 1080x720 with 2 Axes>"
      ]
     },
     "metadata": {
      "needs_background": "light"
     },
     "output_type": "display_data"
    }
   ],
   "source": [
    "mlp_predictions = np.argmax(neural.predict(xtest_scaled), axis = 1)\n",
    "mlp_cm = confusion_matrix(ytest, mlp_predictions)\n",
    "sns.heatmap(mlp_cm, annot=True)\n",
    "plt.xlabel('True')\n",
    "plt.ylabel('Predicted')"
   ]
  },
  {
   "cell_type": "markdown",
   "id": "43ed58b1-a385-4627-aec1-f6871755d715",
   "metadata": {},
   "source": [
    "Even with hyperparameters tuning, the accuracy of the models didn't increase, but we reduced overfitting.\n",
    "<br>\n",
    "As we can see from the previous algorithms we can estimante with around 70% people's worry degree about an earthquake. \n",
    "<br>\n",
    "The algorithms used performs in a similar way, but gradient boosting overfit less, so this would be the best pick.\n",
    "<br> \n",
    "Observing the confusion matrices one can say that even when algorithms missmatch, the prevsion is near the correct answer, in fact we can see the form of a tridiagonal matrix.\n",
    "<br>\n",
    "This is not true for svm that even if has a good score, doesn't predict in a good way."
   ]
  }
 ],
 "metadata": {
  "kernelspec": {
   "display_name": "Python 3 (ipykernel)",
   "language": "python",
   "name": "python3"
  },
  "language_info": {
   "codemirror_mode": {
    "name": "ipython",
    "version": 3
   },
   "file_extension": ".py",
   "mimetype": "text/x-python",
   "name": "python",
   "nbconvert_exporter": "python",
   "pygments_lexer": "ipython3",
   "version": "3.9.12"
  }
 },
 "nbformat": 4,
 "nbformat_minor": 5
}
